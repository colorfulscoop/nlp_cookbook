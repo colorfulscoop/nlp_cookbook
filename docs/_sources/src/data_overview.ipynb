{
 "cells": [
  {
   "cell_type": "markdown",
   "id": "6fbb04ce",
   "metadata": {},
   "source": [
    "# データの概要把握"
   ]
  },
  {
   "cell_type": "code",
   "execution_count": 1,
   "id": "a58387a9-1be7-48b8-9d25-ed6246232a04",
   "metadata": {},
   "outputs": [],
   "source": [
    "import pandas as pd\n",
    "import numpy as np"
   ]
  },
  {
   "cell_type": "markdown",
   "id": "4dc15a91-88e5-4f61-8f18-c1fc2e802ce2",
   "metadata": {},
   "source": [
    "## データのロード"
   ]
  },
  {
   "cell_type": "code",
   "execution_count": 2,
   "id": "4833a43a-15fa-45c7-a156-372ca3afb9cb",
   "metadata": {},
   "outputs": [],
   "source": [
    "pn_df = pd.read_csv(\"input/pn.csv\")"
   ]
  },
  {
   "cell_type": "code",
   "execution_count": 3,
   "id": "880197f8",
   "metadata": {},
   "outputs": [
    {
     "data": {
      "text/html": [
       "<div>\n",
       "<style scoped>\n",
       "    .dataframe tbody tr th:only-of-type {\n",
       "        vertical-align: middle;\n",
       "    }\n",
       "\n",
       "    .dataframe tbody tr th {\n",
       "        vertical-align: top;\n",
       "    }\n",
       "\n",
       "    .dataframe thead th {\n",
       "        text-align: right;\n",
       "    }\n",
       "</style>\n",
       "<table border=\"1\" class=\"dataframe\">\n",
       "  <thead>\n",
       "    <tr style=\"text-align: right;\">\n",
       "      <th></th>\n",
       "      <th>label</th>\n",
       "      <th>text</th>\n",
       "      <th>judges</th>\n",
       "    </tr>\n",
       "  </thead>\n",
       "  <tbody>\n",
       "    <tr>\n",
       "      <th>0</th>\n",
       "      <td>neutral</td>\n",
       "      <td>出張でお世話になりました。</td>\n",
       "      <td>{\"0\": 3}</td>\n",
       "    </tr>\n",
       "    <tr>\n",
       "      <th>1</th>\n",
       "      <td>neutral</td>\n",
       "      <td>朝食は普通でした。</td>\n",
       "      <td>{\"0\": 3}</td>\n",
       "    </tr>\n",
       "    <tr>\n",
       "      <th>2</th>\n",
       "      <td>positive</td>\n",
       "      <td>また是非行きたいです。</td>\n",
       "      <td>{\"1\": 3}</td>\n",
       "    </tr>\n",
       "    <tr>\n",
       "      <th>3</th>\n",
       "      <td>positive</td>\n",
       "      <td>また利用したいと思えるホテルでした。</td>\n",
       "      <td>{\"1\": 3}</td>\n",
       "    </tr>\n",
       "    <tr>\n",
       "      <th>4</th>\n",
       "      <td>positive</td>\n",
       "      <td>駅から近くて便利でした。</td>\n",
       "      <td>{\"0\": 1, \"1\": 2}</td>\n",
       "    </tr>\n",
       "  </tbody>\n",
       "</table>\n",
       "</div>"
      ],
      "text/plain": [
       "      label                text            judges\n",
       "0   neutral       出張でお世話になりました。          {\"0\": 3}\n",
       "1   neutral           朝食は普通でした。          {\"0\": 3}\n",
       "2  positive         また是非行きたいです。          {\"1\": 3}\n",
       "3  positive  また利用したいと思えるホテルでした。          {\"1\": 3}\n",
       "4  positive        駅から近くて便利でした。  {\"0\": 1, \"1\": 2}"
      ]
     },
     "execution_count": 3,
     "metadata": {},
     "output_type": "execute_result"
    }
   ],
   "source": [
    "pn_df.head()"
   ]
  },
  {
   "cell_type": "markdown",
   "id": "1eea0e3e",
   "metadata": {},
   "source": [
    "## データサイズを調べる"
   ]
  },
  {
   "cell_type": "code",
   "execution_count": 4,
   "id": "e50fcf2e-3d72-4f12-b39c-2afb899c23e9",
   "metadata": {},
   "outputs": [
    {
     "data": {
      "text/plain": [
       "(5553, 3)"
      ]
     },
     "execution_count": 4,
     "metadata": {},
     "output_type": "execute_result"
    }
   ],
   "source": [
    "pn_df.shape"
   ]
  },
  {
   "cell_type": "markdown",
   "id": "3e350ec9",
   "metadata": {},
   "source": [
    "## データの概要を調べる"
   ]
  },
  {
   "cell_type": "code",
   "execution_count": 5,
   "id": "d5225be4-e1b4-4f61-a7ae-d5ab0cc1e7ef",
   "metadata": {},
   "outputs": [
    {
     "name": "stdout",
     "output_type": "stream",
     "text": [
      "<class 'pandas.core.frame.DataFrame'>\n",
      "RangeIndex: 5553 entries, 0 to 5552\n",
      "Data columns (total 3 columns):\n",
      " #   Column  Non-Null Count  Dtype \n",
      "---  ------  --------------  ----- \n",
      " 0   label   5553 non-null   object\n",
      " 1   text    5553 non-null   object\n",
      " 2   judges  5553 non-null   object\n",
      "dtypes: object(3)\n",
      "memory usage: 130.3+ KB\n"
     ]
    }
   ],
   "source": [
    "pn_df.info()"
   ]
  },
  {
   "cell_type": "code",
   "execution_count": 6,
   "id": "ecd39f24",
   "metadata": {},
   "outputs": [
    {
     "data": {
      "text/html": [
       "<div>\n",
       "<style scoped>\n",
       "    .dataframe tbody tr th:only-of-type {\n",
       "        vertical-align: middle;\n",
       "    }\n",
       "\n",
       "    .dataframe tbody tr th {\n",
       "        vertical-align: top;\n",
       "    }\n",
       "\n",
       "    .dataframe thead th {\n",
       "        text-align: right;\n",
       "    }\n",
       "</style>\n",
       "<table border=\"1\" class=\"dataframe\">\n",
       "  <thead>\n",
       "    <tr style=\"text-align: right;\">\n",
       "      <th></th>\n",
       "      <th>count</th>\n",
       "      <th>unique</th>\n",
       "      <th>top</th>\n",
       "      <th>freq</th>\n",
       "    </tr>\n",
       "  </thead>\n",
       "  <tbody>\n",
       "    <tr>\n",
       "      <th>label</th>\n",
       "      <td>5553</td>\n",
       "      <td>3</td>\n",
       "      <td>positive</td>\n",
       "      <td>3406</td>\n",
       "    </tr>\n",
       "    <tr>\n",
       "      <th>text</th>\n",
       "      <td>5553</td>\n",
       "      <td>5553</td>\n",
       "      <td>出張でお世話になりました。</td>\n",
       "      <td>1</td>\n",
       "    </tr>\n",
       "    <tr>\n",
       "      <th>judges</th>\n",
       "      <td>5553</td>\n",
       "      <td>10</td>\n",
       "      <td>{\"1\": 3}</td>\n",
       "      <td>2835</td>\n",
       "    </tr>\n",
       "  </tbody>\n",
       "</table>\n",
       "</div>"
      ],
      "text/plain": [
       "       count unique            top  freq\n",
       "label   5553      3       positive  3406\n",
       "text    5553   5553  出張でお世話になりました。     1\n",
       "judges  5553     10       {\"1\": 3}  2835"
      ]
     },
     "execution_count": 6,
     "metadata": {},
     "output_type": "execute_result"
    }
   ],
   "source": [
    "pn_df.describe(include=[object]).T"
   ]
  },
  {
   "cell_type": "markdown",
   "id": "c4895db2",
   "metadata": {},
   "source": [
    "## データの欠損をチェック\n",
    "\n",
    "欠損値がないことはinfo()からもわかるが、念の為isnull()の結果をカウントして別途調べておくとないことを二重チェックできて安心できます。"
   ]
  },
  {
   "cell_type": "code",
   "execution_count": 7,
   "id": "5890187f-43f7-46b1-9d7f-200aa7e39d00",
   "metadata": {},
   "outputs": [
    {
     "data": {
      "text/plain": [
       "label     0\n",
       "text      0\n",
       "judges    0\n",
       "dtype: int64"
      ]
     },
     "execution_count": 7,
     "metadata": {},
     "output_type": "execute_result"
    }
   ],
   "source": [
    "pn_df.isnull().sum()"
   ]
  },
  {
   "cell_type": "markdown",
   "id": "c91caf61",
   "metadata": {},
   "source": [
    "## データのユニーク性をチェック\n",
    "\n",
    "データがユニークでないと学習・検証・テストセットに被りが出る可能性があるため、ユニークであることを確認します。\n",
    "`shape` と `describe` メソッドの結果からもユニークであることがわかりますが、ここでは `nunique` メソッドでチェックします。"
   ]
  },
  {
   "cell_type": "code",
   "execution_count": 8,
   "id": "6bcc0b56",
   "metadata": {},
   "outputs": [
    {
     "data": {
      "text/plain": [
       "5553"
      ]
     },
     "execution_count": 8,
     "metadata": {},
     "output_type": "execute_result"
    }
   ],
   "source": [
    "pn_df[\"text\"].nunique()"
   ]
  },
  {
   "cell_type": "markdown",
   "id": "485b8e62",
   "metadata": {},
   "source": [
    "`value_count` の結果が1でないものを数えてもユニークであるかどうかを確認できます。"
   ]
  },
  {
   "cell_type": "code",
   "execution_count": 9,
   "id": "f2e57570",
   "metadata": {},
   "outputs": [
    {
     "data": {
      "text/plain": [
       "0"
      ]
     },
     "execution_count": 9,
     "metadata": {},
     "output_type": "execute_result"
    }
   ],
   "source": [
    "# value_countsで1ではない数を数えてもわかります。\n",
    "sum(pn_df[\"text\"].value_counts() != 1)"
   ]
  },
  {
   "cell_type": "markdown",
   "id": "14c25378-76f4-4f1e-acf6-4e4a2e769542",
   "metadata": {},
   "source": [
    "## ラベルの分布の確認"
   ]
  },
  {
   "cell_type": "markdown",
   "id": "df2a4608",
   "metadata": {},
   "source": [
    "`groupby` の結果を `describe` することでラベル分布を調べることができます。"
   ]
  },
  {
   "cell_type": "code",
   "execution_count": 10,
   "id": "f4c339b8",
   "metadata": {},
   "outputs": [
    {
     "data": {
      "text/html": [
       "<div>\n",
       "<style scoped>\n",
       "    .dataframe tbody tr th:only-of-type {\n",
       "        vertical-align: middle;\n",
       "    }\n",
       "\n",
       "    .dataframe tbody tr th {\n",
       "        vertical-align: top;\n",
       "    }\n",
       "\n",
       "    .dataframe thead tr th {\n",
       "        text-align: left;\n",
       "    }\n",
       "\n",
       "    .dataframe thead tr:last-of-type th {\n",
       "        text-align: right;\n",
       "    }\n",
       "</style>\n",
       "<table border=\"1\" class=\"dataframe\">\n",
       "  <thead>\n",
       "    <tr>\n",
       "      <th></th>\n",
       "      <th colspan=\"4\" halign=\"left\">text</th>\n",
       "      <th colspan=\"4\" halign=\"left\">judges</th>\n",
       "    </tr>\n",
       "    <tr>\n",
       "      <th></th>\n",
       "      <th>count</th>\n",
       "      <th>unique</th>\n",
       "      <th>top</th>\n",
       "      <th>freq</th>\n",
       "      <th>count</th>\n",
       "      <th>unique</th>\n",
       "      <th>top</th>\n",
       "      <th>freq</th>\n",
       "    </tr>\n",
       "    <tr>\n",
       "      <th>label</th>\n",
       "      <th></th>\n",
       "      <th></th>\n",
       "      <th></th>\n",
       "      <th></th>\n",
       "      <th></th>\n",
       "      <th></th>\n",
       "      <th></th>\n",
       "      <th></th>\n",
       "    </tr>\n",
       "  </thead>\n",
       "  <tbody>\n",
       "    <tr>\n",
       "      <th>negative</th>\n",
       "      <td>818</td>\n",
       "      <td>818</td>\n",
       "      <td>と感じてしまいました。</td>\n",
       "      <td>1</td>\n",
       "      <td>818</td>\n",
       "      <td>4</td>\n",
       "      <td>{\"-1\": 3}</td>\n",
       "      <td>602</td>\n",
       "    </tr>\n",
       "    <tr>\n",
       "      <th>neutral</th>\n",
       "      <td>1329</td>\n",
       "      <td>1329</td>\n",
       "      <td>出張でお世話になりました。</td>\n",
       "      <td>1</td>\n",
       "      <td>1329</td>\n",
       "      <td>4</td>\n",
       "      <td>{\"0\": 3}</td>\n",
       "      <td>749</td>\n",
       "    </tr>\n",
       "    <tr>\n",
       "      <th>positive</th>\n",
       "      <td>3406</td>\n",
       "      <td>3406</td>\n",
       "      <td>また是非行きたいです。</td>\n",
       "      <td>1</td>\n",
       "      <td>3406</td>\n",
       "      <td>4</td>\n",
       "      <td>{\"1\": 3}</td>\n",
       "      <td>2835</td>\n",
       "    </tr>\n",
       "  </tbody>\n",
       "</table>\n",
       "</div>"
      ],
      "text/plain": [
       "          text                            judges                        \n",
       "         count unique            top freq  count unique        top  freq\n",
       "label                                                                   \n",
       "negative   818    818    と感じてしまいました。    1    818      4  {\"-1\": 3}   602\n",
       "neutral   1329   1329  出張でお世話になりました。    1   1329      4   {\"0\": 3}   749\n",
       "positive  3406   3406    また是非行きたいです。    1   3406      4   {\"1\": 3}  2835"
      ]
     },
     "execution_count": 10,
     "metadata": {},
     "output_type": "execute_result"
    }
   ],
   "source": [
    "pn_df.groupby(\"label\").describe(include=[object])"
   ]
  },
  {
   "cell_type": "code",
   "execution_count": 11,
   "id": "f9cc8eac-59f6-4eec-995b-038b0143b76f",
   "metadata": {},
   "outputs": [
    {
     "data": {
      "text/plain": [
       "<AxesSubplot:>"
      ]
     },
     "execution_count": 11,
     "metadata": {},
     "output_type": "execute_result"
    },
    {
     "data": {
      "image/png": "[encoded data removed]",
      "text/plain": [
       "<Figure size 432x288 with 1 Axes>"
      ]
     },
     "metadata": {
      "needs_background": "light"
     },
     "output_type": "display_data"
    }
   ],
   "source": [
    "pn_df[\"label\"].value_counts().plot(kind=\"bar\")"
   ]
  },
  {
   "cell_type": "markdown",
   "id": "ff806b53-99e5-432a-96bd-8dec55c05830",
   "metadata": {},
   "source": [
    "## データの目視チェック\n",
    "\n",
    "データを目視でチェックします。以外と忘れられているステップかもしれませんが最も重要なステップの一つで、\n",
    "以下の問題点を洗い出します。\n",
    "\n",
    "* データ自体の問題\n",
    "* アノテーションの問題\n",
    "\n",
    "次のステップに進む前に入念にデータに問題がないかをチェックしましょう。"
   ]
  },
  {
   "cell_type": "code",
   "execution_count": 12,
   "id": "c6817d8d-8b5c-4435-96d1-fcf25566c47c",
   "metadata": {},
   "outputs": [
    {
     "data": {
      "text/html": [
       "<div>\n",
       "<style scoped>\n",
       "    .dataframe tbody tr th:only-of-type {\n",
       "        vertical-align: middle;\n",
       "    }\n",
       "\n",
       "    .dataframe tbody tr th {\n",
       "        vertical-align: top;\n",
       "    }\n",
       "\n",
       "    .dataframe thead th {\n",
       "        text-align: right;\n",
       "    }\n",
       "</style>\n",
       "<table border=\"1\" class=\"dataframe\">\n",
       "  <thead>\n",
       "    <tr style=\"text-align: right;\">\n",
       "      <th></th>\n",
       "      <th>label</th>\n",
       "      <th>text</th>\n",
       "      <th>judges</th>\n",
       "    </tr>\n",
       "  </thead>\n",
       "  <tbody>\n",
       "    <tr>\n",
       "      <th>1521</th>\n",
       "      <td>positive</td>\n",
       "      <td>枕も選べます。</td>\n",
       "      <td>{\"1\": 3}</td>\n",
       "    </tr>\n",
       "    <tr>\n",
       "      <th>5010</th>\n",
       "      <td>positive</td>\n",
       "      <td>おやじ3人で宿泊しましたが、いたるところに気配りがなされていて、のんびりできました。</td>\n",
       "      <td>{\"1\": 3}</td>\n",
       "    </tr>\n",
       "    <tr>\n",
       "      <th>2363</th>\n",
       "      <td>positive</td>\n",
       "      <td>想像以上に快適でした。</td>\n",
       "      <td>{\"1\": 3}</td>\n",
       "    </tr>\n",
       "    <tr>\n",
       "      <th>3896</th>\n",
       "      <td>positive</td>\n",
       "      <td>朝食大満足。</td>\n",
       "      <td>{\"1\": 3}</td>\n",
       "    </tr>\n",
       "    <tr>\n",
       "      <th>744</th>\n",
       "      <td>positive</td>\n",
       "      <td>またきます。</td>\n",
       "      <td>{\"0\": 1, \"1\": 2}</td>\n",
       "    </tr>\n",
       "  </tbody>\n",
       "</table>\n",
       "</div>"
      ],
      "text/plain": [
       "         label                                        text            judges\n",
       "1521  positive                                     枕も選べます。          {\"1\": 3}\n",
       "5010  positive  おやじ3人で宿泊しましたが、いたるところに気配りがなされていて、のんびりできました。          {\"1\": 3}\n",
       "2363  positive                                 想像以上に快適でした。          {\"1\": 3}\n",
       "3896  positive                                      朝食大満足。          {\"1\": 3}\n",
       "744   positive                                      またきます。  {\"0\": 1, \"1\": 2}"
      ]
     },
     "execution_count": 12,
     "metadata": {},
     "output_type": "execute_result"
    }
   ],
   "source": [
    "# 繰り返し実行して中身をチェックします\n",
    "pn_df.query('label == \"positive\"').sample(n=5)"
   ]
  },
  {
   "cell_type": "code",
   "execution_count": 13,
   "id": "418560b6-e42c-49ef-a60d-f4df2d88db37",
   "metadata": {},
   "outputs": [
    {
     "data": {
      "text/html": [
       "<div>\n",
       "<style scoped>\n",
       "    .dataframe tbody tr th:only-of-type {\n",
       "        vertical-align: middle;\n",
       "    }\n",
       "\n",
       "    .dataframe tbody tr th {\n",
       "        vertical-align: top;\n",
       "    }\n",
       "\n",
       "    .dataframe thead th {\n",
       "        text-align: right;\n",
       "    }\n",
       "</style>\n",
       "<table border=\"1\" class=\"dataframe\">\n",
       "  <thead>\n",
       "    <tr style=\"text-align: right;\">\n",
       "      <th></th>\n",
       "      <th>label</th>\n",
       "      <th>text</th>\n",
       "      <th>judges</th>\n",
       "    </tr>\n",
       "  </thead>\n",
       "  <tbody>\n",
       "    <tr>\n",
       "      <th>1619</th>\n",
       "      <td>negative</td>\n",
       "      <td>アメニティが少ない。</td>\n",
       "      <td>{\"-1\": 3}</td>\n",
       "    </tr>\n",
       "    <tr>\n",
       "      <th>528</th>\n",
       "      <td>negative</td>\n",
       "      <td>繁忙・ハイシーズンと平常時と比べて、料金差が大きい。</td>\n",
       "      <td>{\"-1\": 3}</td>\n",
       "    </tr>\n",
       "    <tr>\n",
       "      <th>57</th>\n",
       "      <td>negative</td>\n",
       "      <td>今回は残念でした。</td>\n",
       "      <td>{\"-1\": 3}</td>\n",
       "    </tr>\n",
       "    <tr>\n",
       "      <th>3794</th>\n",
       "      <td>negative</td>\n",
       "      <td>フロントの対応も悪い。</td>\n",
       "      <td>{\"-1\": 3}</td>\n",
       "    </tr>\n",
       "    <tr>\n",
       "      <th>3766</th>\n",
       "      <td>negative</td>\n",
       "      <td>露天風呂は小さめ。</td>\n",
       "      <td>{\"-1\": 3}</td>\n",
       "    </tr>\n",
       "  </tbody>\n",
       "</table>\n",
       "</div>"
      ],
      "text/plain": [
       "         label                        text     judges\n",
       "1619  negative                  アメニティが少ない。  {\"-1\": 3}\n",
       "528   negative  繁忙・ハイシーズンと平常時と比べて、料金差が大きい。  {\"-1\": 3}\n",
       "57    negative                   今回は残念でした。  {\"-1\": 3}\n",
       "3794  negative                 フロントの対応も悪い。  {\"-1\": 3}\n",
       "3766  negative                   露天風呂は小さめ。  {\"-1\": 3}"
      ]
     },
     "execution_count": 13,
     "metadata": {},
     "output_type": "execute_result"
    }
   ],
   "source": [
    "pn_df.query('label == \"negative\"').sample(n=5)"
   ]
  },
  {
   "cell_type": "markdown",
   "id": "3b6cf55e",
   "metadata": {},
   "source": [
    "## Pandas Profilingを使う\n",
    "\n",
    "https://github.com/ydataai/pandas-profiling\n",
    "\n",
    "```{note}\n",
    "Pandas Profilingを使うには事前にパッケージをインストールしておく必要があります。\n",
    "\n",
    "    $ pip install pandas-profiling[notebook]==3.2.0\n",
    "    \n",
    "```"
   ]
  },
  {
   "cell_type": "code",
   "execution_count": 14,
   "id": "98f44515",
   "metadata": {},
   "outputs": [],
   "source": [
    "from pandas_profiling import ProfileReport\n",
    "\n",
    "profile = ProfileReport(pn_df, title=\"Pandas Profiling Report\", explorative=True)"
   ]
  },
  {
   "cell_type": "code",
   "execution_count": 15,
   "id": "e38978c9",
   "metadata": {},
   "outputs": [
    {
     "data": {
      "application/vnd.jupyter.widget-view+json": {
       "model_id": "766d5f6d975148a4a0a639b0c5954763",
       "version_major": 2,
       "version_minor": 0
      },
      "text/plain": [
       "Summarize dataset:   0%|          | 0/5 [00:00<?, ?it/s]"
      ]
     },
     "metadata": {},
     "output_type": "display_data"
    },
    {
     "data": {
      "application/vnd.jupyter.widget-view+json": {
       "model_id": "4ada28ed3a4b47d2ac3a608e947879fd",
       "version_major": 2,
       "version_minor": 0
      },
      "text/plain": [
       "Generate report structure:   0%|          | 0/1 [00:00<?, ?it/s]"
      ]
     },
     "metadata": {},
     "output_type": "display_data"
    },
    {
     "data": {
      "application/vnd.jupyter.widget-view+json": {
       "model_id": "",
       "version_major": 2,
       "version_minor": 0
      },
      "text/plain": [
       "Render widgets:   0%|          | 0/1 [00:00<?, ?it/s]"
      ]
     },
     "metadata": {},
     "output_type": "display_data"
    },
    {
     "data": {
      "application/vnd.jupyter.widget-view+json": {
       "model_id": "302116e90d3f41adb74f7d0cadf2b426",
       "version_major": 2,
       "version_minor": 0
      },
      "text/plain": [
       "VBox(children=(Tab(children=(Tab(children=(GridBox(children=(VBox(children=(GridspecLayout(children=(HTML(valu…"
      ]
     },
     "metadata": {},
     "output_type": "display_data"
    }
   ],
   "source": [
    "# ウィジェットとして描画\n",
    "profile.to_widgets()"
   ]
  },
  {
   "cell_type": "markdown",
   "id": "6d4fc1b5",
   "metadata": {},
   "source": [
    "```{note}\n",
    "HTMLとして描画するには `.to_notebook_iframe` メソッドを使います。\n",
    "\n",
    "    profile.to_notebook_iframe()\n",
    "```"
   ]
  },
  {
   "cell_type": "code",
   "execution_count": null,
   "id": "be4a6e5b",
   "metadata": {},
   "outputs": [],
   "source": []
  }
 ],
 "metadata": {
  "kernelspec": {
   "display_name": "Python 3 (ipykernel)",
   "language": "python",
   "name": "python3"
  },
  "language_info": {
   "codemirror_mode": {
    "name": "ipython",
    "version": 3
   },
   "file_extension": ".py",
   "mimetype": "text/x-python",
   "name": "python",
   "nbconvert_exporter": "python",
   "pygments_lexer": "ipython3",
   "version": "3.8.6"
  }
 },
 "nbformat": 4,
 "nbformat_minor": 5
}
