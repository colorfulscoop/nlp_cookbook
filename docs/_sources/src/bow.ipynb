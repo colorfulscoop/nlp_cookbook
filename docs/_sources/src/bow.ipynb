{
 "cells": [
  {
   "cell_type": "markdown",
   "id": "e0e0ad33",
   "metadata": {},
   "source": [
    "# Bag of Words"
   ]
  },
  {
   "cell_type": "code",
   "execution_count": 1,
   "id": "e9679a40",
   "metadata": {},
   "outputs": [],
   "source": [
    "import pandas as pd"
   ]
  },
  {
   "cell_type": "markdown",
   "id": "d2da560e",
   "metadata": {},
   "source": [
    "テキストに対して、タスクを達成するのに **十分な言語的特性を捉えた表現** をもった特徴ベクトルに変換することが目的です。\n",
    "\n",
    "なるべく次元を小さくして次元の呪いを受けにくい表現にすることも重要です。"
   ]
  },
  {
   "cell_type": "markdown",
   "id": "f9e2313b",
   "metadata": {},
   "source": [
    "## Bag of Words (BoW)\n",
    "\n",
    "BoWはテキストを単語の集合として表現する方法です。\n",
    "\n",
    "[sklearn.feature_extraction.text.CountVectorizer](https://scikit-learn.org/stable/modules/generated/sklearn.feature_extraction.text.CountVectorizer.html)\n",
    "を使います。\n",
    "CountVectorizerはtokenizer引数をとり、デフォルトでは\n",
    "[ドキュメント](https://scikit-learn.org/stable/modules/feature_extraction.html#text-feature-extraction)\n",
    "に書かれている通り次のように動きます。\n",
    "\n",
    "    The default configuration tokenizes the string by extracting words of at least 2 letters.\n",
    "    \n",
    "このtokenizerを日本語用に置き換えて利用します。"
   ]
  },
  {
   "cell_type": "code",
   "execution_count": 2,
   "id": "fe38e4b8",
   "metadata": {},
   "outputs": [
    {
     "name": "stderr",
     "output_type": "stream",
     "text": [
      "2022-05-09 02:46:55.703718: W tensorflow/stream_executor/platform/default/dso_loader.cc:64] Could not load dynamic library 'libcudart.so.11.0'; dlerror: libcudart.so.11.0: cannot open shared object file: No such file or directory\n",
      "2022-05-09 02:46:55.703825: I tensorflow/stream_executor/cuda/cudart_stub.cc:29] Ignore above cudart dlerror if you do not have a GPU set up on your machine.\n"
     ]
    }
   ],
   "source": [
    "# トークナイザを定義\n",
    "import spacy\n",
    "\n",
    "nlp = spacy.load(\"ja_core_news_sm\")\n",
    "\n",
    "def tokenize(text):\n",
    "   return [token.text for token in nlp(text)]"
   ]
  },
  {
   "cell_type": "code",
   "execution_count": 3,
   "id": "10adb021",
   "metadata": {},
   "outputs": [],
   "source": [
    "# tokenizerに日本語用のトークナイザを渡して初期化します\n",
    "from sklearn.feature_extraction.text import CountVectorizer\n",
    "\n",
    "cv = CountVectorizer(tokenizer=tokenize)"
   ]
  },
  {
   "cell_type": "markdown",
   "id": "a18a05cb",
   "metadata": {},
   "source": [
    "```{note}\n",
    "もしも保存されているデータが事前に空白でトークナイズされているのであれば、\n",
    "tokenizerには `CountVectorizer(tokenizer=str.split)` と設定してください。\n",
    "\n",
    "tokenizerに何も指定しないと、 `token_pattern` のデフォルトの挙動で\n",
    "一文字のトークンは削除されてしまいます。\n",
    "この挙動は日本語では不適切になります。\n",
    "\n",
    "[Feature extraction](https://scikit-learn.org/stable/modules/feature_extraction.html#customizing-the-vectorizer-classes)の Some tips and tricks に `str.split` について記載があります。\n",
    "```"
   ]
  },
  {
   "cell_type": "code",
   "execution_count": 4,
   "id": "d754f21b",
   "metadata": {},
   "outputs": [
    {
     "name": "stderr",
     "output_type": "stream",
     "text": [
      "/usr/local/lib/python3.8/site-packages/sklearn/feature_extraction/text.py:516: UserWarning: The parameter 'token_pattern' will not be used since 'tokenizer' is not None'\n",
      "  warnings.warn(\n"
     ]
    },
    {
     "data": {
      "text/plain": [
       "CountVectorizer(tokenizer=<function tokenize at 0x7fde6a625430>)"
      ]
     },
     "execution_count": 4,
     "metadata": {},
     "output_type": "execute_result"
    }
   ],
   "source": [
    "texts = [\"テスト用のテキストでのテストです。\", \"複数をリストで渡します\"]\n",
    "cv.fit(texts)"
   ]
  },
  {
   "cell_type": "code",
   "execution_count": 5,
   "id": "70d80012",
   "metadata": {},
   "outputs": [
    {
     "data": {
      "text/plain": [
       "array(['。', 'で', 'です', 'の', 'ます', 'を', 'テキスト', 'テスト', 'リスト', '渡し', '用',\n",
       "       '複数'], dtype=object)"
      ]
     },
     "execution_count": 5,
     "metadata": {},
     "output_type": "execute_result"
    }
   ],
   "source": [
    "cv.get_feature_names_out()"
   ]
  },
  {
   "cell_type": "code",
   "execution_count": 6,
   "id": "be0fe096",
   "metadata": {},
   "outputs": [
    {
     "data": {
      "text/plain": [
       "{'テスト': 7,\n",
       " '用': 10,\n",
       " 'の': 3,\n",
       " 'テキスト': 6,\n",
       " 'で': 1,\n",
       " 'です': 2,\n",
       " '。': 0,\n",
       " '複数': 11,\n",
       " 'を': 5,\n",
       " 'リスト': 8,\n",
       " '渡し': 9,\n",
       " 'ます': 4}"
      ]
     },
     "execution_count": 6,
     "metadata": {},
     "output_type": "execute_result"
    }
   ],
   "source": [
    "cv.vocabulary_"
   ]
  },
  {
   "cell_type": "code",
   "execution_count": 7,
   "id": "2613de6c",
   "metadata": {},
   "outputs": [],
   "source": [
    "bow = cv.transform(texts)"
   ]
  },
  {
   "cell_type": "code",
   "execution_count": 8,
   "id": "89fd6e5e",
   "metadata": {},
   "outputs": [
    {
     "data": {
      "text/plain": [
       "<2x12 sparse matrix of type '<class 'numpy.int64'>'\n",
       "\twith 13 stored elements in Compressed Sparse Row format>"
      ]
     },
     "execution_count": 8,
     "metadata": {},
     "output_type": "execute_result"
    }
   ],
   "source": [
    "bow"
   ]
  },
  {
   "cell_type": "code",
   "execution_count": 9,
   "id": "36192b63",
   "metadata": {},
   "outputs": [
    {
     "data": {
      "text/plain": [
       "(2, 12)"
      ]
     },
     "execution_count": 9,
     "metadata": {},
     "output_type": "execute_result"
    }
   ],
   "source": [
    "bow.shape"
   ]
  },
  {
   "cell_type": "markdown",
   "id": "2e11830a",
   "metadata": {},
   "source": [
    "結果をnumpy arrayに変換して表示します。"
   ]
  },
  {
   "cell_type": "code",
   "execution_count": 10,
   "id": "75410fe5",
   "metadata": {},
   "outputs": [
    {
     "data": {
      "text/plain": [
       "array([[1, 1, 1, 2, 0, 0, 1, 2, 0, 0, 1, 0],\n",
       "       [0, 1, 0, 0, 1, 1, 0, 0, 1, 1, 0, 1]])"
      ]
     },
     "execution_count": 10,
     "metadata": {},
     "output_type": "execute_result"
    }
   ],
   "source": [
    "bow.toarray()"
   ]
  },
  {
   "cell_type": "code",
   "execution_count": 11,
   "id": "c875d291",
   "metadata": {},
   "outputs": [
    {
     "data": {
      "text/html": [
       "<div>\n",
       "<style scoped>\n",
       "    .dataframe tbody tr th:only-of-type {\n",
       "        vertical-align: middle;\n",
       "    }\n",
       "\n",
       "    .dataframe tbody tr th {\n",
       "        vertical-align: top;\n",
       "    }\n",
       "\n",
       "    .dataframe thead th {\n",
       "        text-align: right;\n",
       "    }\n",
       "</style>\n",
       "<table border=\"1\" class=\"dataframe\">\n",
       "  <thead>\n",
       "    <tr style=\"text-align: right;\">\n",
       "      <th></th>\n",
       "      <th>。</th>\n",
       "      <th>で</th>\n",
       "      <th>です</th>\n",
       "      <th>の</th>\n",
       "      <th>ます</th>\n",
       "      <th>を</th>\n",
       "      <th>テキスト</th>\n",
       "      <th>テスト</th>\n",
       "      <th>リスト</th>\n",
       "      <th>渡し</th>\n",
       "      <th>用</th>\n",
       "      <th>複数</th>\n",
       "    </tr>\n",
       "  </thead>\n",
       "  <tbody>\n",
       "    <tr>\n",
       "      <th>0</th>\n",
       "      <td>1</td>\n",
       "      <td>1</td>\n",
       "      <td>1</td>\n",
       "      <td>2</td>\n",
       "      <td>0</td>\n",
       "      <td>0</td>\n",
       "      <td>1</td>\n",
       "      <td>2</td>\n",
       "      <td>0</td>\n",
       "      <td>0</td>\n",
       "      <td>1</td>\n",
       "      <td>0</td>\n",
       "    </tr>\n",
       "    <tr>\n",
       "      <th>1</th>\n",
       "      <td>0</td>\n",
       "      <td>1</td>\n",
       "      <td>0</td>\n",
       "      <td>0</td>\n",
       "      <td>1</td>\n",
       "      <td>1</td>\n",
       "      <td>0</td>\n",
       "      <td>0</td>\n",
       "      <td>1</td>\n",
       "      <td>1</td>\n",
       "      <td>0</td>\n",
       "      <td>1</td>\n",
       "    </tr>\n",
       "  </tbody>\n",
       "</table>\n",
       "</div>"
      ],
      "text/plain": [
       "   。  で  です  の  ます  を  テキスト  テスト  リスト  渡し  用  複数\n",
       "0  1  1   1  2   0  0     1    2    0   0  1   0\n",
       "1  0  1   0  0   1  1     0    0    1   1  0   1"
      ]
     },
     "execution_count": 11,
     "metadata": {},
     "output_type": "execute_result"
    }
   ],
   "source": [
    "pd.DataFrame(bow.toarray(), columns=cv.get_feature_names_out())"
   ]
  },
  {
   "cell_type": "markdown",
   "id": "4ef6c1d2",
   "metadata": {},
   "source": [
    "CountVectorizerはデフォルトでは頻度を考慮して単語をカウントします。\n",
    "頻度を考慮せずに単語が出現したかどうかのみを考える場合はbinaryオプションを指定して初期化します。"
   ]
  },
  {
   "cell_type": "code",
   "execution_count": 12,
   "id": "582c3cf3",
   "metadata": {},
   "outputs": [
    {
     "data": {
      "text/plain": [
       "array([[1, 1, 1, 1, 0, 0, 1, 1, 0, 0, 1, 0],\n",
       "       [0, 1, 0, 0, 1, 1, 0, 0, 1, 1, 0, 1]])"
      ]
     },
     "execution_count": 12,
     "metadata": {},
     "output_type": "execute_result"
    }
   ],
   "source": [
    "cv = CountVectorizer(tokenizer=tokenize, binary=True)\n",
    "cv.fit_transform([\"テスト用のテキストでのテストです。\", \"複数をリストで渡します\"]).toarray()"
   ]
  },
  {
   "cell_type": "markdown",
   "id": "de1cbeee",
   "metadata": {},
   "source": [
    "## Bag of N-gram\n",
    "\n",
    "N-gramにより小さな単位での語順を考慮できるので、テキストの意味を小さな単位で捉えることができます。\n",
    "一方で、語彙数が増えてしまうため特徴量が高次元になり、次元の呪いの問題に注意する必要があります。"
   ]
  },
  {
   "cell_type": "code",
   "execution_count": 13,
   "id": "83fffe87",
   "metadata": {},
   "outputs": [],
   "source": [
    "cv = CountVectorizer(tokenizer=tokenize, ngram_range=(1, 2))\n",
    "bon = cv.fit_transform(texts)"
   ]
  },
  {
   "cell_type": "code",
   "execution_count": 14,
   "id": "f4e71745",
   "metadata": {},
   "outputs": [
    {
     "data": {
      "text/html": [
       "<div>\n",
       "<style scoped>\n",
       "    .dataframe tbody tr th:only-of-type {\n",
       "        vertical-align: middle;\n",
       "    }\n",
       "\n",
       "    .dataframe tbody tr th {\n",
       "        vertical-align: top;\n",
       "    }\n",
       "\n",
       "    .dataframe thead th {\n",
       "        text-align: right;\n",
       "    }\n",
       "</style>\n",
       "<table border=\"1\" class=\"dataframe\">\n",
       "  <thead>\n",
       "    <tr style=\"text-align: right;\">\n",
       "      <th></th>\n",
       "      <th>。</th>\n",
       "      <th>で</th>\n",
       "      <th>で の</th>\n",
       "      <th>で 渡し</th>\n",
       "      <th>です</th>\n",
       "      <th>です 。</th>\n",
       "      <th>の</th>\n",
       "      <th>の テキスト</th>\n",
       "      <th>の テスト</th>\n",
       "      <th>ます</th>\n",
       "      <th>...</th>\n",
       "      <th>テスト です</th>\n",
       "      <th>テスト 用</th>\n",
       "      <th>リスト</th>\n",
       "      <th>リスト で</th>\n",
       "      <th>渡し</th>\n",
       "      <th>渡し ます</th>\n",
       "      <th>用</th>\n",
       "      <th>用 の</th>\n",
       "      <th>複数</th>\n",
       "      <th>複数 を</th>\n",
       "    </tr>\n",
       "  </thead>\n",
       "  <tbody>\n",
       "    <tr>\n",
       "      <th>0</th>\n",
       "      <td>1</td>\n",
       "      <td>1</td>\n",
       "      <td>1</td>\n",
       "      <td>0</td>\n",
       "      <td>1</td>\n",
       "      <td>1</td>\n",
       "      <td>2</td>\n",
       "      <td>1</td>\n",
       "      <td>1</td>\n",
       "      <td>0</td>\n",
       "      <td>...</td>\n",
       "      <td>1</td>\n",
       "      <td>1</td>\n",
       "      <td>0</td>\n",
       "      <td>0</td>\n",
       "      <td>0</td>\n",
       "      <td>0</td>\n",
       "      <td>1</td>\n",
       "      <td>1</td>\n",
       "      <td>0</td>\n",
       "      <td>0</td>\n",
       "    </tr>\n",
       "    <tr>\n",
       "      <th>1</th>\n",
       "      <td>0</td>\n",
       "      <td>1</td>\n",
       "      <td>0</td>\n",
       "      <td>1</td>\n",
       "      <td>0</td>\n",
       "      <td>0</td>\n",
       "      <td>0</td>\n",
       "      <td>0</td>\n",
       "      <td>0</td>\n",
       "      <td>1</td>\n",
       "      <td>...</td>\n",
       "      <td>0</td>\n",
       "      <td>0</td>\n",
       "      <td>1</td>\n",
       "      <td>1</td>\n",
       "      <td>1</td>\n",
       "      <td>1</td>\n",
       "      <td>0</td>\n",
       "      <td>0</td>\n",
       "      <td>1</td>\n",
       "      <td>1</td>\n",
       "    </tr>\n",
       "  </tbody>\n",
       "</table>\n",
       "<p>2 rows × 25 columns</p>\n",
       "</div>"
      ],
      "text/plain": [
       "   。  で  で の  で 渡し  です  です 。  の  の テキスト  の テスト  ます  ...  テスト です  テスト 用  リスト  \\\n",
       "0  1  1    1     0   1     1  2       1      1   0  ...       1      1    0   \n",
       "1  0  1    0     1   0     0  0       0      0   1  ...       0      0    1   \n",
       "\n",
       "   リスト で  渡し  渡し ます  用  用 の  複数  複数 を  \n",
       "0      0   0      0  1    1   0     0  \n",
       "1      1   1      1  0    0   1     1  \n",
       "\n",
       "[2 rows x 25 columns]"
      ]
     },
     "execution_count": 14,
     "metadata": {},
     "output_type": "execute_result"
    }
   ],
   "source": [
    "pd.DataFrame(bon.toarray(), columns=cv.get_feature_names_out())"
   ]
  },
  {
   "cell_type": "markdown",
   "id": "6126a0c3",
   "metadata": {},
   "source": [
    "## TF-IDF\n",
    "\n",
    "単語の重要度を考慮してベクトル化します。\n",
    "[sklearn.feature_extraction.text.TfidfVectorizer](https://scikit-learn.org/stable/modules/feature_extraction.html#tfidf-term-weighting)\n",
    "を使います。\n",
    "\n"
   ]
  },
  {
   "cell_type": "code",
   "execution_count": 15,
   "id": "3e205cf4",
   "metadata": {},
   "outputs": [],
   "source": [
    "from sklearn.feature_extraction.text import TfidfVectorizer\n",
    "\n",
    "cv = TfidfVectorizer(tokenizer=tokenize)\n",
    "tfidf = cv.fit_transform(texts)"
   ]
  },
  {
   "cell_type": "code",
   "execution_count": 16,
   "id": "96911703",
   "metadata": {},
   "outputs": [
    {
     "data": {
      "text/html": [
       "<div>\n",
       "<style scoped>\n",
       "    .dataframe tbody tr th:only-of-type {\n",
       "        vertical-align: middle;\n",
       "    }\n",
       "\n",
       "    .dataframe tbody tr th {\n",
       "        vertical-align: top;\n",
       "    }\n",
       "\n",
       "    .dataframe thead th {\n",
       "        text-align: right;\n",
       "    }\n",
       "</style>\n",
       "<table border=\"1\" class=\"dataframe\">\n",
       "  <thead>\n",
       "    <tr style=\"text-align: right;\">\n",
       "      <th></th>\n",
       "      <th>。</th>\n",
       "      <th>で</th>\n",
       "      <th>です</th>\n",
       "      <th>の</th>\n",
       "      <th>ます</th>\n",
       "      <th>を</th>\n",
       "      <th>テキスト</th>\n",
       "      <th>テスト</th>\n",
       "      <th>リスト</th>\n",
       "      <th>渡し</th>\n",
       "      <th>用</th>\n",
       "      <th>複数</th>\n",
       "    </tr>\n",
       "  </thead>\n",
       "  <tbody>\n",
       "    <tr>\n",
       "      <th>0</th>\n",
       "      <td>0.282772</td>\n",
       "      <td>0.201195</td>\n",
       "      <td>0.282772</td>\n",
       "      <td>0.565544</td>\n",
       "      <td>0.00000</td>\n",
       "      <td>0.00000</td>\n",
       "      <td>0.282772</td>\n",
       "      <td>0.565544</td>\n",
       "      <td>0.00000</td>\n",
       "      <td>0.00000</td>\n",
       "      <td>0.282772</td>\n",
       "      <td>0.00000</td>\n",
       "    </tr>\n",
       "    <tr>\n",
       "      <th>1</th>\n",
       "      <td>0.000000</td>\n",
       "      <td>0.303216</td>\n",
       "      <td>0.000000</td>\n",
       "      <td>0.000000</td>\n",
       "      <td>0.42616</td>\n",
       "      <td>0.42616</td>\n",
       "      <td>0.000000</td>\n",
       "      <td>0.000000</td>\n",
       "      <td>0.42616</td>\n",
       "      <td>0.42616</td>\n",
       "      <td>0.000000</td>\n",
       "      <td>0.42616</td>\n",
       "    </tr>\n",
       "  </tbody>\n",
       "</table>\n",
       "</div>"
      ],
      "text/plain": [
       "          。         で        です         の       ます        を      テキスト  \\\n",
       "0  0.282772  0.201195  0.282772  0.565544  0.00000  0.00000  0.282772   \n",
       "1  0.000000  0.303216  0.000000  0.000000  0.42616  0.42616  0.000000   \n",
       "\n",
       "        テスト      リスト       渡し         用       複数  \n",
       "0  0.565544  0.00000  0.00000  0.282772  0.00000  \n",
       "1  0.000000  0.42616  0.42616  0.000000  0.42616  "
      ]
     },
     "execution_count": 16,
     "metadata": {},
     "output_type": "execute_result"
    }
   ],
   "source": [
    "pd.DataFrame(tfidf.toarray(), columns=cv.get_feature_names_out())"
   ]
  },
  {
   "cell_type": "markdown",
   "id": "a0df6fa1",
   "metadata": {},
   "source": [
    "```{note}\n",
    "出力からスケーリングされていることがわかります。\n",
    "```"
   ]
  },
  {
   "cell_type": "markdown",
   "id": "5776d69b",
   "metadata": {},
   "source": [
    "TfidfはTransformerとしても使うことができます。\n",
    "この使い方をする場合には、CountVectorizerのあとに\n",
    "[sklearn.feature_extraction.text.TfidfTransformer](https://scikit-learn.org/stable/modules/generated/sklearn.feature_extraction.text.TfidfTransformer.html)\n",
    "を指定します。\n",
    "Pipelineとして構成するのが便利です。"
   ]
  },
  {
   "cell_type": "code",
   "execution_count": 17,
   "id": "b63d994f",
   "metadata": {},
   "outputs": [],
   "source": [
    "from sklearn.feature_extraction.text import TfidfTransformer\n",
    "from sklearn.pipeline import Pipeline\n",
    "\n",
    "pipe = Pipeline([\n",
    "    (\"count\", CountVectorizer(tokenizer=tokenize)),\n",
    "    (\"tfidf\", TfidfTransformer()),\n",
    "])"
   ]
  },
  {
   "cell_type": "code",
   "execution_count": 18,
   "id": "228128e3",
   "metadata": {},
   "outputs": [],
   "source": [
    "tfidf_transform = pipe.fit_transform(texts)"
   ]
  },
  {
   "cell_type": "code",
   "execution_count": 19,
   "id": "d7e60f7d",
   "metadata": {},
   "outputs": [
    {
     "data": {
      "text/html": [
       "<div>\n",
       "<style scoped>\n",
       "    .dataframe tbody tr th:only-of-type {\n",
       "        vertical-align: middle;\n",
       "    }\n",
       "\n",
       "    .dataframe tbody tr th {\n",
       "        vertical-align: top;\n",
       "    }\n",
       "\n",
       "    .dataframe thead th {\n",
       "        text-align: right;\n",
       "    }\n",
       "</style>\n",
       "<table border=\"1\" class=\"dataframe\">\n",
       "  <thead>\n",
       "    <tr style=\"text-align: right;\">\n",
       "      <th></th>\n",
       "      <th>。</th>\n",
       "      <th>で</th>\n",
       "      <th>です</th>\n",
       "      <th>の</th>\n",
       "      <th>ます</th>\n",
       "      <th>を</th>\n",
       "      <th>テキスト</th>\n",
       "      <th>テスト</th>\n",
       "      <th>リスト</th>\n",
       "      <th>渡し</th>\n",
       "      <th>用</th>\n",
       "      <th>複数</th>\n",
       "    </tr>\n",
       "  </thead>\n",
       "  <tbody>\n",
       "    <tr>\n",
       "      <th>0</th>\n",
       "      <td>0.282772</td>\n",
       "      <td>0.201195</td>\n",
       "      <td>0.282772</td>\n",
       "      <td>0.565544</td>\n",
       "      <td>0.00000</td>\n",
       "      <td>0.00000</td>\n",
       "      <td>0.282772</td>\n",
       "      <td>0.565544</td>\n",
       "      <td>0.00000</td>\n",
       "      <td>0.00000</td>\n",
       "      <td>0.282772</td>\n",
       "      <td>0.00000</td>\n",
       "    </tr>\n",
       "    <tr>\n",
       "      <th>1</th>\n",
       "      <td>0.000000</td>\n",
       "      <td>0.303216</td>\n",
       "      <td>0.000000</td>\n",
       "      <td>0.000000</td>\n",
       "      <td>0.42616</td>\n",
       "      <td>0.42616</td>\n",
       "      <td>0.000000</td>\n",
       "      <td>0.000000</td>\n",
       "      <td>0.42616</td>\n",
       "      <td>0.42616</td>\n",
       "      <td>0.000000</td>\n",
       "      <td>0.42616</td>\n",
       "    </tr>\n",
       "  </tbody>\n",
       "</table>\n",
       "</div>"
      ],
      "text/plain": [
       "          。         で        です         の       ます        を      テキスト  \\\n",
       "0  0.282772  0.201195  0.282772  0.565544  0.00000  0.00000  0.282772   \n",
       "1  0.000000  0.303216  0.000000  0.000000  0.42616  0.42616  0.000000   \n",
       "\n",
       "        テスト      リスト       渡し         用       複数  \n",
       "0  0.565544  0.00000  0.00000  0.282772  0.00000  \n",
       "1  0.000000  0.42616  0.42616  0.000000  0.42616  "
      ]
     },
     "execution_count": 19,
     "metadata": {},
     "output_type": "execute_result"
    }
   ],
   "source": [
    "pd.DataFrame(tfidf_transform.toarray(), columns=cv.get_feature_names_out())"
   ]
  },
  {
   "cell_type": "code",
   "execution_count": null,
   "id": "f6340592",
   "metadata": {},
   "outputs": [],
   "source": []
  }
 ],
 "metadata": {
  "kernelspec": {
   "display_name": "Python 3 (ipykernel)",
   "language": "python",
   "name": "python3"
  },
  "language_info": {
   "codemirror_mode": {
    "name": "ipython",
    "version": 3
   },
   "file_extension": ".py",
   "mimetype": "text/x-python",
   "name": "python",
   "nbconvert_exporter": "python",
   "pygments_lexer": "ipython3",
   "version": "3.8.6"
  }
 },
 "nbformat": 4,
 "nbformat_minor": 5
}
