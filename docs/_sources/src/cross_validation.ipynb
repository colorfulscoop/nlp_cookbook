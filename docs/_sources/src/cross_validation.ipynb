{
 "cells": [
  {
   "cell_type": "markdown",
   "id": "273b6150",
   "metadata": {},
   "source": [
    "# 交差検証\n",
    "\n",
    "クロスバリデーションについては\n",
    "[Cross-validation: evaluating estimator performance](https://scikit-learn.org/stable/modules/cross_validation.html#cross-validation)\n",
    "のドキュメントが詳しいので一読ください。"
   ]
  },
  {
   "cell_type": "markdown",
   "id": "6e62c877",
   "metadata": {},
   "source": [
    "**データのロード**"
   ]
  },
  {
   "cell_type": "code",
   "execution_count": 1,
   "id": "27cd8111",
   "metadata": {},
   "outputs": [],
   "source": [
    "import pandas as pd\n",
    "from sklearn import model_selection\n",
    "\n",
    "data = pd.read_csv(\"input/pn_same_judge_preprocessed.csv\")\n",
    "train, test = model_selection.train_test_split(data, test_size=0.1, random_state=0)"
   ]
  },
  {
   "cell_type": "markdown",
   "id": "782315f3",
   "metadata": {},
   "source": [
    "## 交差検証用にデータ分割する\n",
    "\n",
    "[sklearn.model_selection.KFold](https://scikit-learn.org/stable/modules/generated/sklearn.model_selection.KFold.html)\n",
    "を使うと交差検証用にデータを分割できます。"
   ]
  },
  {
   "cell_type": "code",
   "execution_count": 2,
   "id": "7eca0901",
   "metadata": {},
   "outputs": [
    {
     "name": "stdout",
     "output_type": "stream",
     "text": [
      "0 (3139, 3) (1047, 3) (443, 3)\n",
      "1 (3139, 3) (1047, 3) (454, 3)\n",
      "2 (3140, 3) (1046, 3) (451, 3)\n",
      "3 (3140, 3) (1046, 3) (458, 3)\n"
     ]
    }
   ],
   "source": [
    "from sklearn.model_selection import KFold\n",
    "\n",
    "\n",
    "fold = KFold(n_splits=4, shuffle=True, random_state=0)\n",
    "\n",
    "for fold_id, (train_idx, val_idx) in enumerate(fold.split(X=data[\"text\"])):\n",
    "    train_cv = data.iloc[train_idx]\n",
    "    val_cv = data.iloc[val_idx]\n",
    "    print(fold_id, train_cv.shape, val_cv.shape, train_cv.query('label_num == 1').shape)\n"
   ]
  },
  {
   "cell_type": "markdown",
   "id": "c89a1a91",
   "metadata": {},
   "source": [
    "ラベルの分布をtamotuniha\n",
    "[sklearn.model_selection.StratifiedKFold](https://scikit-learn.org/stable/modules/generated/sklearn.model_selection.StratifiedKFold.html)\n",
    "を使います。"
   ]
  },
  {
   "cell_type": "code",
   "execution_count": 3,
   "id": "fdf984bf",
   "metadata": {},
   "outputs": [
    {
     "name": "stdout",
     "output_type": "stream",
     "text": [
      "0 (3139, 3) (1047, 3) (451, 3)\n",
      "1 (3139, 3) (1047, 3) (451, 3)\n",
      "2 (3140, 3) (1046, 3) (452, 3)\n",
      "3 (3140, 3) (1046, 3) (452, 3)\n"
     ]
    }
   ],
   "source": [
    "from sklearn.model_selection import StratifiedKFold\n",
    "\n",
    "\n",
    "fold = StratifiedKFold(n_splits=4, shuffle=True, random_state=0)\n",
    "\n",
    "for fold_id, (train_idx, val_idx) in enumerate(fold.split(X=data, y=data[\"label_num\"])):\n",
    "    train_cv = data.iloc[train_idx]\n",
    "    val_cv = data.iloc[val_idx]\n",
    "    print(fold_id, train_cv.shape, val_cv.shape, train_cv.query('label_num == 1').shape)"
   ]
  },
  {
   "cell_type": "markdown",
   "id": "53cfc045",
   "metadata": {},
   "source": [
    "## 指標を最大化するハイパーパラメータ探索\n",
    "\n",
    "ある指標を最大化するパラメータを探索するには GridSearchCV が便利です。\n",
    "\n",
    "ハイパーパラメータの探索では、引数だけでなく、例えばMultinomialNBとLogisticRegressionを比較するといったクラス自体も変更可能です。\n",
    "\n",
    "参考: [Stack Overflow](https://stackoverflow.com/questions/64258622/gridsearchcv-with-tfidf-and-count-vectorizer)\n",
    "\n"
   ]
  },
  {
   "cell_type": "code",
   "execution_count": 4,
   "id": "099b1c3b",
   "metadata": {},
   "outputs": [
    {
     "name": "stdout",
     "output_type": "stream",
     "text": [
      "Fitting 3 folds for each of 3 candidates, totalling 9 fits\n"
     ]
    },
    {
     "data": {
      "text/html": [
       "<style>#sk-container-id-1 {color: black;background-color: white;}#sk-container-id-1 pre{padding: 0;}#sk-container-id-1 div.sk-toggleable {background-color: white;}#sk-container-id-1 label.sk-toggleable__label {cursor: pointer;display: block;width: 100%;margin-bottom: 0;padding: 0.3em;box-sizing: border-box;text-align: center;}#sk-container-id-1 label.sk-toggleable__label-arrow:before {content: \"▸\";float: left;margin-right: 0.25em;color: #696969;}#sk-container-id-1 label.sk-toggleable__label-arrow:hover:before {color: black;}#sk-container-id-1 div.sk-estimator:hover label.sk-toggleable__label-arrow:before {color: black;}#sk-container-id-1 div.sk-toggleable__content {max-height: 0;max-width: 0;overflow: hidden;text-align: left;background-color: #f0f8ff;}#sk-container-id-1 div.sk-toggleable__content pre {margin: 0.2em;color: black;border-radius: 0.25em;background-color: #f0f8ff;}#sk-container-id-1 input.sk-toggleable__control:checked~div.sk-toggleable__content {max-height: 200px;max-width: 100%;overflow: auto;}#sk-container-id-1 input.sk-toggleable__control:checked~label.sk-toggleable__label-arrow:before {content: \"▾\";}#sk-container-id-1 div.sk-estimator input.sk-toggleable__control:checked~label.sk-toggleable__label {background-color: #d4ebff;}#sk-container-id-1 div.sk-label input.sk-toggleable__control:checked~label.sk-toggleable__label {background-color: #d4ebff;}#sk-container-id-1 input.sk-hidden--visually {border: 0;clip: rect(1px 1px 1px 1px);clip: rect(1px, 1px, 1px, 1px);height: 1px;margin: -1px;overflow: hidden;padding: 0;position: absolute;width: 1px;}#sk-container-id-1 div.sk-estimator {font-family: monospace;background-color: #f0f8ff;border: 1px dotted black;border-radius: 0.25em;box-sizing: border-box;margin-bottom: 0.5em;}#sk-container-id-1 div.sk-estimator:hover {background-color: #d4ebff;}#sk-container-id-1 div.sk-parallel-item::after {content: \"\";width: 100%;border-bottom: 1px solid gray;flex-grow: 1;}#sk-container-id-1 div.sk-label:hover label.sk-toggleable__label {background-color: #d4ebff;}#sk-container-id-1 div.sk-serial::before {content: \"\";position: absolute;border-left: 1px solid gray;box-sizing: border-box;top: 0;bottom: 0;left: 50%;z-index: 0;}#sk-container-id-1 div.sk-serial {display: flex;flex-direction: column;align-items: center;background-color: white;padding-right: 0.2em;padding-left: 0.2em;position: relative;}#sk-container-id-1 div.sk-item {position: relative;z-index: 1;}#sk-container-id-1 div.sk-parallel {display: flex;align-items: stretch;justify-content: center;background-color: white;position: relative;}#sk-container-id-1 div.sk-item::before, #sk-container-id-1 div.sk-parallel-item::before {content: \"\";position: absolute;border-left: 1px solid gray;box-sizing: border-box;top: 0;bottom: 0;left: 50%;z-index: -1;}#sk-container-id-1 div.sk-parallel-item {display: flex;flex-direction: column;z-index: 1;position: relative;background-color: white;}#sk-container-id-1 div.sk-parallel-item:first-child::after {align-self: flex-end;width: 50%;}#sk-container-id-1 div.sk-parallel-item:last-child::after {align-self: flex-start;width: 50%;}#sk-container-id-1 div.sk-parallel-item:only-child::after {width: 0;}#sk-container-id-1 div.sk-dashed-wrapped {border: 1px dashed gray;margin: 0 0.4em 0.5em 0.4em;box-sizing: border-box;padding-bottom: 0.4em;background-color: white;}#sk-container-id-1 div.sk-label label {font-family: monospace;font-weight: bold;display: inline-block;line-height: 1.2em;}#sk-container-id-1 div.sk-label-container {text-align: center;}#sk-container-id-1 div.sk-container {/* jupyter's `normalize.less` sets `[hidden] { display: none; }` but bootstrap.min.css set `[hidden] { display: none !important; }` so we also need the `!important` here to be able to override the default hidden behavior on the sphinx rendered scikit-learn.org. See: https://github.com/scikit-learn/scikit-learn/issues/21755 */display: inline-block !important;position: relative;}#sk-container-id-1 div.sk-text-repr-fallback {display: none;}</style><div id=\"sk-container-id-1\" class=\"sk-top-container\"><div class=\"sk-text-repr-fallback\"><pre>GridSearchCV(cv=StratifiedKFold(n_splits=3, random_state=0, shuffle=True),\n",
       "             estimator=Pipeline(steps=[(&#x27;vect&#x27;,\n",
       "                                        TfidfVectorizer(tokenizer=&lt;method &#x27;split&#x27; of &#x27;str&#x27; objects&gt;)),\n",
       "                                       (&#x27;clf&#x27;, LogisticRegression())]),\n",
       "             n_jobs=2,\n",
       "             param_grid=[{&#x27;clf&#x27;: [MultinomialNB()]},\n",
       "                         {&#x27;clf&#x27;: [LogisticRegression(class_weight=&#x27;balanced&#x27;)],\n",
       "                          &#x27;clf__class_weight&#x27;: [None, &#x27;balanced&#x27;]}],\n",
       "             scoring=&#x27;average_precision&#x27;, verbose=2)</pre><b>In a Jupyter environment, please rerun this cell to show the HTML representation or trust the notebook. <br />On GitHub, the HTML representation is unable to render, please try loading this page with nbviewer.org.</b></div><div class=\"sk-container\" hidden><div class=\"sk-item sk-dashed-wrapped\"><div class=\"sk-label-container\"><div class=\"sk-label sk-toggleable\"><input class=\"sk-toggleable__control sk-hidden--visually\" id=\"sk-estimator-id-1\" type=\"checkbox\" ><label for=\"sk-estimator-id-1\" class=\"sk-toggleable__label sk-toggleable__label-arrow\">GridSearchCV</label><div class=\"sk-toggleable__content\"><pre>GridSearchCV(cv=StratifiedKFold(n_splits=3, random_state=0, shuffle=True),\n",
       "             estimator=Pipeline(steps=[(&#x27;vect&#x27;,\n",
       "                                        TfidfVectorizer(tokenizer=&lt;method &#x27;split&#x27; of &#x27;str&#x27; objects&gt;)),\n",
       "                                       (&#x27;clf&#x27;, LogisticRegression())]),\n",
       "             n_jobs=2,\n",
       "             param_grid=[{&#x27;clf&#x27;: [MultinomialNB()]},\n",
       "                         {&#x27;clf&#x27;: [LogisticRegression(class_weight=&#x27;balanced&#x27;)],\n",
       "                          &#x27;clf__class_weight&#x27;: [None, &#x27;balanced&#x27;]}],\n",
       "             scoring=&#x27;average_precision&#x27;, verbose=2)</pre></div></div></div><div class=\"sk-parallel\"><div class=\"sk-parallel-item\"><div class=\"sk-item\"><div class=\"sk-label-container\"><div class=\"sk-label sk-toggleable\"><input class=\"sk-toggleable__control sk-hidden--visually\" id=\"sk-estimator-id-2\" type=\"checkbox\" ><label for=\"sk-estimator-id-2\" class=\"sk-toggleable__label sk-toggleable__label-arrow\">estimator: Pipeline</label><div class=\"sk-toggleable__content\"><pre>Pipeline(steps=[(&#x27;vect&#x27;,\n",
       "                 TfidfVectorizer(tokenizer=&lt;method &#x27;split&#x27; of &#x27;str&#x27; objects&gt;)),\n",
       "                (&#x27;clf&#x27;, LogisticRegression())])</pre></div></div></div><div class=\"sk-serial\"><div class=\"sk-item\"><div class=\"sk-serial\"><div class=\"sk-item\"><div class=\"sk-estimator sk-toggleable\"><input class=\"sk-toggleable__control sk-hidden--visually\" id=\"sk-estimator-id-3\" type=\"checkbox\" ><label for=\"sk-estimator-id-3\" class=\"sk-toggleable__label sk-toggleable__label-arrow\">TfidfVectorizer</label><div class=\"sk-toggleable__content\"><pre>TfidfVectorizer(tokenizer=&lt;method &#x27;split&#x27; of &#x27;str&#x27; objects&gt;)</pre></div></div></div><div class=\"sk-item\"><div class=\"sk-estimator sk-toggleable\"><input class=\"sk-toggleable__control sk-hidden--visually\" id=\"sk-estimator-id-4\" type=\"checkbox\" ><label for=\"sk-estimator-id-4\" class=\"sk-toggleable__label sk-toggleable__label-arrow\">LogisticRegression</label><div class=\"sk-toggleable__content\"><pre>LogisticRegression()</pre></div></div></div></div></div></div></div></div></div></div></div></div>"
      ],
      "text/plain": [
       "GridSearchCV(cv=StratifiedKFold(n_splits=3, random_state=0, shuffle=True),\n",
       "             estimator=Pipeline(steps=[('vect',\n",
       "                                        TfidfVectorizer(tokenizer=<method 'split' of 'str' objects>)),\n",
       "                                       ('clf', LogisticRegression())]),\n",
       "             n_jobs=2,\n",
       "             param_grid=[{'clf': [MultinomialNB()]},\n",
       "                         {'clf': [LogisticRegression(class_weight='balanced')],\n",
       "                          'clf__class_weight': [None, 'balanced']}],\n",
       "             scoring='average_precision', verbose=2)"
      ]
     },
     "execution_count": 4,
     "metadata": {},
     "output_type": "execute_result"
    }
   ],
   "source": [
    "from sklearn.naive_bayes import MultinomialNB\n",
    "from sklearn.linear_model import LogisticRegression\n",
    "from sklearn.feature_extraction.text import TfidfVectorizer\n",
    "from sklearn.model_selection import GridSearchCV\n",
    "from sklearn.model_selection import StratifiedKFold\n",
    "from sklearn.pipeline import Pipeline\n",
    "\n",
    "\n",
    "pipe = Pipeline([\n",
    "    (\"vect\", TfidfVectorizer(tokenizer=str.split)),\n",
    "    (\"clf\", LogisticRegression())\n",
    "])\n",
    "\n",
    "params = [\n",
    "    {\n",
    "        \"clf\": [MultinomialNB()],\n",
    "    },\n",
    "    {\n",
    "        \"clf\": [LogisticRegression()],\n",
    "        \"clf__class_weight\": [None, \"balanced\"],\n",
    "    }\n",
    "]\n",
    "\n",
    "cv = StratifiedKFold(n_splits=3, shuffle=True, random_state=0)\n",
    "search = GridSearchCV(pipe, params, scoring=\"average_precision\", cv=cv, verbose=2, n_jobs=2)\n",
    "search.fit(X=train[\"tokens\"], y=train[\"label_num\"])"
   ]
  },
  {
   "cell_type": "code",
   "execution_count": 5,
   "id": "b9bf38cb",
   "metadata": {},
   "outputs": [
    {
     "data": {
      "text/html": [
       "<div>\n",
       "<style scoped>\n",
       "    .dataframe tbody tr th:only-of-type {\n",
       "        vertical-align: middle;\n",
       "    }\n",
       "\n",
       "    .dataframe tbody tr th {\n",
       "        vertical-align: top;\n",
       "    }\n",
       "\n",
       "    .dataframe thead th {\n",
       "        text-align: right;\n",
       "    }\n",
       "</style>\n",
       "<table border=\"1\" class=\"dataframe\">\n",
       "  <thead>\n",
       "    <tr style=\"text-align: right;\">\n",
       "      <th></th>\n",
       "      <th>0</th>\n",
       "      <th>1</th>\n",
       "      <th>2</th>\n",
       "    </tr>\n",
       "  </thead>\n",
       "  <tbody>\n",
       "    <tr>\n",
       "      <th>mean_fit_time</th>\n",
       "      <td>0.036518</td>\n",
       "      <td>0.064396</td>\n",
       "      <td>0.064668</td>\n",
       "    </tr>\n",
       "    <tr>\n",
       "      <th>std_fit_time</th>\n",
       "      <td>0.002994</td>\n",
       "      <td>0.003345</td>\n",
       "      <td>0.009993</td>\n",
       "    </tr>\n",
       "    <tr>\n",
       "      <th>mean_score_time</th>\n",
       "      <td>0.016316</td>\n",
       "      <td>0.014224</td>\n",
       "      <td>0.015696</td>\n",
       "    </tr>\n",
       "    <tr>\n",
       "      <th>std_score_time</th>\n",
       "      <td>0.002359</td>\n",
       "      <td>0.000241</td>\n",
       "      <td>0.000348</td>\n",
       "    </tr>\n",
       "    <tr>\n",
       "      <th>param_clf</th>\n",
       "      <td>MultinomialNB()</td>\n",
       "      <td>LogisticRegression(class_weight='balanced')</td>\n",
       "      <td>LogisticRegression(class_weight='balanced')</td>\n",
       "    </tr>\n",
       "    <tr>\n",
       "      <th>param_clf__class_weight</th>\n",
       "      <td>NaN</td>\n",
       "      <td>None</td>\n",
       "      <td>balanced</td>\n",
       "    </tr>\n",
       "    <tr>\n",
       "      <th>params</th>\n",
       "      <td>{'clf': MultinomialNB()}</td>\n",
       "      <td>{'clf': LogisticRegression(class_weight='balan...</td>\n",
       "      <td>{'clf': LogisticRegression(class_weight='balan...</td>\n",
       "    </tr>\n",
       "    <tr>\n",
       "      <th>split0_test_score</th>\n",
       "      <td>0.731963</td>\n",
       "      <td>0.820622</td>\n",
       "      <td>0.825565</td>\n",
       "    </tr>\n",
       "    <tr>\n",
       "      <th>split1_test_score</th>\n",
       "      <td>0.72699</td>\n",
       "      <td>0.782203</td>\n",
       "      <td>0.789138</td>\n",
       "    </tr>\n",
       "    <tr>\n",
       "      <th>split2_test_score</th>\n",
       "      <td>0.756417</td>\n",
       "      <td>0.846741</td>\n",
       "      <td>0.849069</td>\n",
       "    </tr>\n",
       "    <tr>\n",
       "      <th>mean_test_score</th>\n",
       "      <td>0.738456</td>\n",
       "      <td>0.816522</td>\n",
       "      <td>0.821257</td>\n",
       "    </tr>\n",
       "    <tr>\n",
       "      <th>std_test_score</th>\n",
       "      <td>0.012861</td>\n",
       "      <td>0.026507</td>\n",
       "      <td>0.024655</td>\n",
       "    </tr>\n",
       "    <tr>\n",
       "      <th>rank_test_score</th>\n",
       "      <td>3</td>\n",
       "      <td>2</td>\n",
       "      <td>1</td>\n",
       "    </tr>\n",
       "  </tbody>\n",
       "</table>\n",
       "</div>"
      ],
      "text/plain": [
       "                                                0  \\\n",
       "mean_fit_time                            0.036518   \n",
       "std_fit_time                             0.002994   \n",
       "mean_score_time                          0.016316   \n",
       "std_score_time                           0.002359   \n",
       "param_clf                         MultinomialNB()   \n",
       "param_clf__class_weight                       NaN   \n",
       "params                   {'clf': MultinomialNB()}   \n",
       "split0_test_score                        0.731963   \n",
       "split1_test_score                         0.72699   \n",
       "split2_test_score                        0.756417   \n",
       "mean_test_score                          0.738456   \n",
       "std_test_score                           0.012861   \n",
       "rank_test_score                                 3   \n",
       "\n",
       "                                                                         1  \\\n",
       "mean_fit_time                                                     0.064396   \n",
       "std_fit_time                                                      0.003345   \n",
       "mean_score_time                                                   0.014224   \n",
       "std_score_time                                                    0.000241   \n",
       "param_clf                      LogisticRegression(class_weight='balanced')   \n",
       "param_clf__class_weight                                               None   \n",
       "params                   {'clf': LogisticRegression(class_weight='balan...   \n",
       "split0_test_score                                                 0.820622   \n",
       "split1_test_score                                                 0.782203   \n",
       "split2_test_score                                                 0.846741   \n",
       "mean_test_score                                                   0.816522   \n",
       "std_test_score                                                    0.026507   \n",
       "rank_test_score                                                          2   \n",
       "\n",
       "                                                                         2  \n",
       "mean_fit_time                                                     0.064668  \n",
       "std_fit_time                                                      0.009993  \n",
       "mean_score_time                                                   0.015696  \n",
       "std_score_time                                                    0.000348  \n",
       "param_clf                      LogisticRegression(class_weight='balanced')  \n",
       "param_clf__class_weight                                           balanced  \n",
       "params                   {'clf': LogisticRegression(class_weight='balan...  \n",
       "split0_test_score                                                 0.825565  \n",
       "split1_test_score                                                 0.789138  \n",
       "split2_test_score                                                 0.849069  \n",
       "mean_test_score                                                   0.821257  \n",
       "std_test_score                                                    0.024655  \n",
       "rank_test_score                                                          1  "
      ]
     },
     "execution_count": 5,
     "metadata": {},
     "output_type": "execute_result"
    }
   ],
   "source": [
    "pd.DataFrame(search.cv_results_).T"
   ]
  },
  {
   "cell_type": "code",
   "execution_count": 6,
   "id": "32b6bab2",
   "metadata": {},
   "outputs": [
    {
     "data": {
      "text/plain": [
       "{'clf': LogisticRegression(class_weight='balanced'),\n",
       " 'clf__class_weight': 'balanced'}"
      ]
     },
     "execution_count": 6,
     "metadata": {},
     "output_type": "execute_result"
    }
   ],
   "source": [
    "search.best_params_"
   ]
  },
  {
   "cell_type": "markdown",
   "id": "cf55d3e2",
   "metadata": {},
   "source": [
    "最適なパラメータを使って、学習データ全体でもう一度モデルを学習するにはset_paramsを使います。\n",
    "\n",
    "\n",
    "参考: [Stack Overflow](https://stackoverflow.com/questions/60608474/scikit-pipeline-parameters-fit-got-an-unexpected-keyword-argument-gamma)"
   ]
  },
  {
   "cell_type": "code",
   "execution_count": 7,
   "id": "d3c8bba1",
   "metadata": {},
   "outputs": [
    {
     "data": {
      "text/html": [
       "<style>#sk-container-id-2 {color: black;background-color: white;}#sk-container-id-2 pre{padding: 0;}#sk-container-id-2 div.sk-toggleable {background-color: white;}#sk-container-id-2 label.sk-toggleable__label {cursor: pointer;display: block;width: 100%;margin-bottom: 0;padding: 0.3em;box-sizing: border-box;text-align: center;}#sk-container-id-2 label.sk-toggleable__label-arrow:before {content: \"▸\";float: left;margin-right: 0.25em;color: #696969;}#sk-container-id-2 label.sk-toggleable__label-arrow:hover:before {color: black;}#sk-container-id-2 div.sk-estimator:hover label.sk-toggleable__label-arrow:before {color: black;}#sk-container-id-2 div.sk-toggleable__content {max-height: 0;max-width: 0;overflow: hidden;text-align: left;background-color: #f0f8ff;}#sk-container-id-2 div.sk-toggleable__content pre {margin: 0.2em;color: black;border-radius: 0.25em;background-color: #f0f8ff;}#sk-container-id-2 input.sk-toggleable__control:checked~div.sk-toggleable__content {max-height: 200px;max-width: 100%;overflow: auto;}#sk-container-id-2 input.sk-toggleable__control:checked~label.sk-toggleable__label-arrow:before {content: \"▾\";}#sk-container-id-2 div.sk-estimator input.sk-toggleable__control:checked~label.sk-toggleable__label {background-color: #d4ebff;}#sk-container-id-2 div.sk-label input.sk-toggleable__control:checked~label.sk-toggleable__label {background-color: #d4ebff;}#sk-container-id-2 input.sk-hidden--visually {border: 0;clip: rect(1px 1px 1px 1px);clip: rect(1px, 1px, 1px, 1px);height: 1px;margin: -1px;overflow: hidden;padding: 0;position: absolute;width: 1px;}#sk-container-id-2 div.sk-estimator {font-family: monospace;background-color: #f0f8ff;border: 1px dotted black;border-radius: 0.25em;box-sizing: border-box;margin-bottom: 0.5em;}#sk-container-id-2 div.sk-estimator:hover {background-color: #d4ebff;}#sk-container-id-2 div.sk-parallel-item::after {content: \"\";width: 100%;border-bottom: 1px solid gray;flex-grow: 1;}#sk-container-id-2 div.sk-label:hover label.sk-toggleable__label {background-color: #d4ebff;}#sk-container-id-2 div.sk-serial::before {content: \"\";position: absolute;border-left: 1px solid gray;box-sizing: border-box;top: 0;bottom: 0;left: 50%;z-index: 0;}#sk-container-id-2 div.sk-serial {display: flex;flex-direction: column;align-items: center;background-color: white;padding-right: 0.2em;padding-left: 0.2em;position: relative;}#sk-container-id-2 div.sk-item {position: relative;z-index: 1;}#sk-container-id-2 div.sk-parallel {display: flex;align-items: stretch;justify-content: center;background-color: white;position: relative;}#sk-container-id-2 div.sk-item::before, #sk-container-id-2 div.sk-parallel-item::before {content: \"\";position: absolute;border-left: 1px solid gray;box-sizing: border-box;top: 0;bottom: 0;left: 50%;z-index: -1;}#sk-container-id-2 div.sk-parallel-item {display: flex;flex-direction: column;z-index: 1;position: relative;background-color: white;}#sk-container-id-2 div.sk-parallel-item:first-child::after {align-self: flex-end;width: 50%;}#sk-container-id-2 div.sk-parallel-item:last-child::after {align-self: flex-start;width: 50%;}#sk-container-id-2 div.sk-parallel-item:only-child::after {width: 0;}#sk-container-id-2 div.sk-dashed-wrapped {border: 1px dashed gray;margin: 0 0.4em 0.5em 0.4em;box-sizing: border-box;padding-bottom: 0.4em;background-color: white;}#sk-container-id-2 div.sk-label label {font-family: monospace;font-weight: bold;display: inline-block;line-height: 1.2em;}#sk-container-id-2 div.sk-label-container {text-align: center;}#sk-container-id-2 div.sk-container {/* jupyter's `normalize.less` sets `[hidden] { display: none; }` but bootstrap.min.css set `[hidden] { display: none !important; }` so we also need the `!important` here to be able to override the default hidden behavior on the sphinx rendered scikit-learn.org. See: https://github.com/scikit-learn/scikit-learn/issues/21755 */display: inline-block !important;position: relative;}#sk-container-id-2 div.sk-text-repr-fallback {display: none;}</style><div id=\"sk-container-id-2\" class=\"sk-top-container\"><div class=\"sk-text-repr-fallback\"><pre>Pipeline(steps=[(&#x27;vect&#x27;,\n",
       "                 TfidfVectorizer(tokenizer=&lt;method &#x27;split&#x27; of &#x27;str&#x27; objects&gt;)),\n",
       "                (&#x27;clf&#x27;, LogisticRegression(class_weight=&#x27;balanced&#x27;))])</pre><b>In a Jupyter environment, please rerun this cell to show the HTML representation or trust the notebook. <br />On GitHub, the HTML representation is unable to render, please try loading this page with nbviewer.org.</b></div><div class=\"sk-container\" hidden><div class=\"sk-item sk-dashed-wrapped\"><div class=\"sk-label-container\"><div class=\"sk-label sk-toggleable\"><input class=\"sk-toggleable__control sk-hidden--visually\" id=\"sk-estimator-id-5\" type=\"checkbox\" ><label for=\"sk-estimator-id-5\" class=\"sk-toggleable__label sk-toggleable__label-arrow\">Pipeline</label><div class=\"sk-toggleable__content\"><pre>Pipeline(steps=[(&#x27;vect&#x27;,\n",
       "                 TfidfVectorizer(tokenizer=&lt;method &#x27;split&#x27; of &#x27;str&#x27; objects&gt;)),\n",
       "                (&#x27;clf&#x27;, LogisticRegression(class_weight=&#x27;balanced&#x27;))])</pre></div></div></div><div class=\"sk-serial\"><div class=\"sk-item\"><div class=\"sk-estimator sk-toggleable\"><input class=\"sk-toggleable__control sk-hidden--visually\" id=\"sk-estimator-id-6\" type=\"checkbox\" ><label for=\"sk-estimator-id-6\" class=\"sk-toggleable__label sk-toggleable__label-arrow\">TfidfVectorizer</label><div class=\"sk-toggleable__content\"><pre>TfidfVectorizer(tokenizer=&lt;method &#x27;split&#x27; of &#x27;str&#x27; objects&gt;)</pre></div></div></div><div class=\"sk-item\"><div class=\"sk-estimator sk-toggleable\"><input class=\"sk-toggleable__control sk-hidden--visually\" id=\"sk-estimator-id-7\" type=\"checkbox\" ><label for=\"sk-estimator-id-7\" class=\"sk-toggleable__label sk-toggleable__label-arrow\">LogisticRegression</label><div class=\"sk-toggleable__content\"><pre>LogisticRegression(class_weight=&#x27;balanced&#x27;)</pre></div></div></div></div></div></div></div>"
      ],
      "text/plain": [
       "Pipeline(steps=[('vect',\n",
       "                 TfidfVectorizer(tokenizer=<method 'split' of 'str' objects>)),\n",
       "                ('clf', LogisticRegression(class_weight='balanced'))])"
      ]
     },
     "execution_count": 7,
     "metadata": {},
     "output_type": "execute_result"
    }
   ],
   "source": [
    "pipe.set_params(**search.best_params_)\n",
    "\n",
    "pipe.fit(X=train[\"tokens\"], y=train[\"label_num\"])"
   ]
  },
  {
   "cell_type": "code",
   "execution_count": 8,
   "id": "86f39b38",
   "metadata": {},
   "outputs": [],
   "source": [
    "proba = pipe.predict_proba(X=test[\"text\"])"
   ]
  },
  {
   "cell_type": "markdown",
   "id": "01e2ff79",
   "metadata": {},
   "source": [
    "## カスタムループ\n",
    "\n",
    "ある指標を最大化するだけでなく、例えばすべてのPRカーブを描くなどの操作が必要な場合には\n",
    "ハイパーパラメータの組み合わせに対して自分で学習、推論のコードを実装する必要があります。\n",
    "\n",
    "ハイパーパラメータの組み合わせは [ParameterGrid](https://scikit-learn.org/stable/modules/generated/sklearn.model_selection.ParameterGrid.html#sklearn.model_selection.ParameterGrid)\n",
    "を使うことができます。\n",
    "\n",
    "ParameterGridにパラメータを渡すと、GridSearchCVでPipelineに渡される組み合わせと同様のパラメータのその組み合わせを返します。"
   ]
  },
  {
   "cell_type": "code",
   "execution_count": 9,
   "id": "56cdb064",
   "metadata": {},
   "outputs": [
    {
     "data": {
      "text/plain": [
       "[{'a': 'a1', 'b': 'b1'},\n",
       " {'a': 'a1', 'b': 'b2'},\n",
       " {'a': 'a2', 'b': 'b1'},\n",
       " {'a': 'a2', 'b': 'b2'},\n",
       " {'a': 'a3', 'b': 'b3'},\n",
       " {'a': 'a3', 'b': 'b4'},\n",
       " {'a': 'a4', 'b': 'b3'},\n",
       " {'a': 'a4', 'b': 'b4'}]"
      ]
     },
     "execution_count": 9,
     "metadata": {},
     "output_type": "execute_result"
    }
   ],
   "source": [
    "from sklearn.model_selection import ParameterGrid\n",
    "\n",
    "params_example = [\n",
    "    {\"a\": [\"a1\", \"a2\"], \"b\": [\"b1\", \"b2\"]},\n",
    "    {\"a\": [\"a3\", \"a4\"], \"b\": [\"b3\", \"b4\"]},\n",
    "]\n",
    "list(ParameterGrid(params_example))"
   ]
  },
  {
   "cell_type": "markdown",
   "id": "348b8796",
   "metadata": {},
   "source": [
    "ParameterGridとset_paramsを使うことで次のように自分で\n",
    "各パラメータの組み合わせに対してクロスバリデーションを実行することが可能になります。\n",
    "\n",
    "実装時のノート\n",
    "* 各イテレーションでは [sklearn.base.clone](https://scikit-learn.org/stable/modules/generated/sklearn.base.clone.html) でパイプラインのクローンを作成することで新しい分類器を作成して、前の結果に依存しないようにします。\n",
    "* パラメータ内に推論器が入っている場合があるので、 [sklearn.utils.estimator_checks.check_estimator](https://scikit-learn.org/stable/modules/generated/sklearn.utils.estimator_checks.check_estimator.html#sklearn.utils.estimator_checks.check_estimator) で推論器かチェックし、そうであればcloneします。"
   ]
  },
  {
   "cell_type": "code",
   "execution_count": 10,
   "id": "745889f8",
   "metadata": {},
   "outputs": [],
   "source": [
    "from sklearn.model_selection import ParameterGrid\n",
    "from sklearn.base import clone\n",
    "from sklearn.utils.estimator_checks import check_estimator\n",
    "import numpy as np\n",
    "\n",
    "\n",
    "def run_cv(pipe, params, cv, X, y):\n",
    "    \"\"\"paramsの組み合わせに対して、各フォールドで学習、推論を行い、その結果を返す。\n",
    "    \"\"\"\n",
    "    result = []\n",
    "    for param in ParameterGrid(params):\n",
    "        print(param)\n",
    "        pred = np.zeros((len(X), ))\n",
    "        for fold_id, (train_idx, test_idx) in enumerate(cv.split(X=X, y=y)):\n",
    "            print(\"Fold:\", fold_id)\n",
    "            pipe_clone = clone(pipe)\n",
    "            param_clone = dict()\n",
    "            for key, val in param.items():\n",
    "                try:\n",
    "                    check_estimator(val)\n",
    "                    print(f\"Clone estimator in parameter {key}: {val}\")\n",
    "                    param_clone[key] = clone(val)\n",
    "                except (TypeError, ValueError):\n",
    "                    # 推論器でない場合はcloneせずにそのまま値を使います\n",
    "                    param_clone[key] = val\n",
    "            pipe_clone.set_params(**param_clone)\n",
    "            pipe_clone.fit(X=X.iloc[train_idx], y=y.iloc[train_idx])\n",
    "            # ここでは推定器にはpredict_probaがあることを想定しています。\n",
    "            # この実装では、例えばSVCでは動作しないことに注意してください。\n",
    "            pred[test_idx] = pipe_clone.predict_proba(X.iloc[test_idx])[:,1]\n",
    "\n",
    "        result.append((param_clone, pred))\n",
    "    return result"
   ]
  },
  {
   "cell_type": "code",
   "execution_count": 11,
   "id": "1deafe18",
   "metadata": {},
   "outputs": [
    {
     "name": "stdout",
     "output_type": "stream",
     "text": [
      "{'clf': MultinomialNB()}\n",
      "Fold: 0\n",
      "Clone estimator in parameter clf: MultinomialNB()\n",
      "Fold: 1\n",
      "Clone estimator in parameter clf: MultinomialNB()\n",
      "Fold: 2\n",
      "Clone estimator in parameter clf: MultinomialNB()\n",
      "{'clf': LogisticRegression(class_weight='balanced'), 'clf__class_weight': None}\n",
      "Fold: 0\n",
      "Clone estimator in parameter clf: LogisticRegression(class_weight='balanced')\n",
      "Fold: 1\n",
      "Clone estimator in parameter clf: LogisticRegression(class_weight='balanced')\n",
      "Fold: 2\n",
      "Clone estimator in parameter clf: LogisticRegression(class_weight='balanced')\n",
      "{'clf': LogisticRegression(class_weight='balanced'), 'clf__class_weight': 'balanced'}\n",
      "Fold: 0\n",
      "Clone estimator in parameter clf: LogisticRegression(class_weight='balanced')\n",
      "Fold: 1\n",
      "Clone estimator in parameter clf: LogisticRegression(class_weight='balanced')\n",
      "Fold: 2\n",
      "Clone estimator in parameter clf: LogisticRegression(class_weight='balanced')\n"
     ]
    }
   ],
   "source": [
    "\"\"\"\n",
    "pipe = Pipeline([\n",
    "    (\"vect\", TfidfVectorizer(tokenizer=str.split)),\n",
    "    (\"clf\", LogisticRegression())\n",
    "])\n",
    "\n",
    "params = [\n",
    "    {\n",
    "        \"clf\": [MultinomialNB()],\n",
    "    },\n",
    "    {\n",
    "        \"clf\": [LogisticRegression()],\n",
    "        \"clf__class_weight\": [None, \"balanced\"],\n",
    "    }\n",
    "]\n",
    "\"\"\"\n",
    "\n",
    "cv = StratifiedKFold(n_splits=3, shuffle=True, random_state=0)\n",
    "result = run_cv(pipe=pipe, params=params, cv=cv, X=train[\"tokens\"], y=train[\"label_num\"])"
   ]
  },
  {
   "cell_type": "code",
   "execution_count": 12,
   "id": "e4f6074a",
   "metadata": {},
   "outputs": [
    {
     "name": "stdout",
     "output_type": "stream",
     "text": [
      "{'clf': MultinomialNB()}\n",
      "(3767,)\n",
      "{'clf': LogisticRegression(), 'clf__class_weight': None}\n",
      "(3767,)\n",
      "{'clf': LogisticRegression(class_weight='balanced'), 'clf__class_weight': 'balanced'}\n",
      "(3767,)\n"
     ]
    }
   ],
   "source": [
    "for res in result:\n",
    "    param, pred = res\n",
    "    print(param)\n",
    "    print(pred.shape)"
   ]
  }
 ],
 "metadata": {
  "kernelspec": {
   "display_name": "Python 3 (ipykernel)",
   "language": "python",
   "name": "python3"
  },
  "language_info": {
   "codemirror_mode": {
    "name": "ipython",
    "version": 3
   },
   "file_extension": ".py",
   "mimetype": "text/x-python",
   "name": "python",
   "nbconvert_exporter": "python",
   "pygments_lexer": "ipython3",
   "version": "3.8.6"
  }
 },
 "nbformat": 4,
 "nbformat_minor": 5
}
