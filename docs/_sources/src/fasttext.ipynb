{
 "cells": [
  {
   "cell_type": "markdown",
   "id": "4037071f",
   "metadata": {},
   "source": [
    "# fastTextによる分類\n",
    "\n",
    "fastTextは分類器の学習もサポートしていており、単語埋め込みも含めて学習することで精度の向上が期待できます。\n",
    "\n",
    "```{note}\n",
    "fastTextを使うためには事前にfasttextパッケージをインストールしておきます。\n",
    "\n",
    "    !pip install fasttext==0.9.1\n",
    "```"
   ]
  },
  {
   "cell_type": "markdown",
   "id": "c744ebe5",
   "metadata": {},
   "source": [
    "データの準備をします。"
   ]
  },
  {
   "cell_type": "code",
   "execution_count": 1,
   "id": "375b8518",
   "metadata": {},
   "outputs": [],
   "source": [
    "import pandas as pd\n",
    "from sklearn import model_selection\n",
    "\n",
    "# positive, neutral, negative の中から negative なレビューを当てるタスクとして、\n",
    "# negativeを1に、それ以外のpositive, neutralを0に設定します。\n",
    "data = pd.read_csv(\"input/pn_same_judge.csv\")\n",
    "data[\"label_num\"] = data[\"label\"].map({\"positive\": 0, \"neutral\": 0, \"negative\": 1})\n",
    "train, test = model_selection.train_test_split(data, test_size=0.1, random_state=0)"
   ]
  },
  {
   "cell_type": "code",
   "execution_count": 2,
   "id": "f4cdf4b4",
   "metadata": {},
   "outputs": [
    {
     "name": "stderr",
     "output_type": "stream",
     "text": [
      "2022-05-09 08:01:08.876235: W tensorflow/stream_executor/platform/default/dso_loader.cc:64] Could not load dynamic library 'libcudart.so.11.0'; dlerror: libcudart.so.11.0: cannot open shared object file: No such file or directory\n",
      "2022-05-09 08:01:08.876321: I tensorflow/stream_executor/cuda/cudart_stub.cc:29] Ignore above cudart dlerror if you do not have a GPU set up on your machine.\n"
     ]
    }
   ],
   "source": [
    "import spacy\n",
    "\n",
    "nlp = spacy.load(\"ja_core_news_md\")\n",
    "\n",
    "def tokenize(text):\n",
    "   return [token.text for token in nlp(text)]"
   ]
  },
  {
   "cell_type": "markdown",
   "id": "6b82af17",
   "metadata": {},
   "source": [
    "## ラベルの準備\n",
    "\n",
    "fastTextが必要とするラベルを付与します。"
   ]
  },
  {
   "cell_type": "code",
   "execution_count": 3,
   "id": "74bca0eb",
   "metadata": {},
   "outputs": [],
   "source": [
    "def apply_fn(row):\n",
    "    tokens = \" \".join(tokenize(row[\"text\"]))\n",
    "\n",
    "    label = f\"__label__{row['label_num']}\"\n",
    "    return f\"{label} {tokens}\""
   ]
  },
  {
   "cell_type": "code",
   "execution_count": 4,
   "id": "6880dc0a",
   "metadata": {},
   "outputs": [],
   "source": [
    "for target in [train, test]:\n",
    "    target[\"model_input\"] = target.apply(apply_fn, axis=\"columns\")"
   ]
  },
  {
   "cell_type": "code",
   "execution_count": 5,
   "id": "881962e0",
   "metadata": {},
   "outputs": [
    {
     "data": {
      "text/html": [
       "<div>\n",
       "<style scoped>\n",
       "    .dataframe tbody tr th:only-of-type {\n",
       "        vertical-align: middle;\n",
       "    }\n",
       "\n",
       "    .dataframe tbody tr th {\n",
       "        vertical-align: top;\n",
       "    }\n",
       "\n",
       "    .dataframe thead th {\n",
       "        text-align: right;\n",
       "    }\n",
       "</style>\n",
       "<table border=\"1\" class=\"dataframe\">\n",
       "  <thead>\n",
       "    <tr style=\"text-align: right;\">\n",
       "      <th></th>\n",
       "      <th>label</th>\n",
       "      <th>text</th>\n",
       "      <th>judges</th>\n",
       "      <th>label_num</th>\n",
       "      <th>model_input</th>\n",
       "    </tr>\n",
       "  </thead>\n",
       "  <tbody>\n",
       "    <tr>\n",
       "      <th>2310</th>\n",
       "      <td>positive</td>\n",
       "      <td>また利用したいホテルである。</td>\n",
       "      <td>{\"1\": 3}</td>\n",
       "      <td>0</td>\n",
       "      <td>__label__0 また 利用 し たい ホテル で ある 。</td>\n",
       "    </tr>\n",
       "    <tr>\n",
       "      <th>308</th>\n",
       "      <td>positive</td>\n",
       "      <td>お腹いっぱい食べてしまいました。</td>\n",
       "      <td>{\"1\": 3}</td>\n",
       "      <td>0</td>\n",
       "      <td>__label__0 お腹 いっぱい 食べ て しまい まし た 。</td>\n",
       "    </tr>\n",
       "    <tr>\n",
       "      <th>684</th>\n",
       "      <td>negative</td>\n",
       "      <td>とにかく狭い。</td>\n",
       "      <td>{\"-1\": 3}</td>\n",
       "      <td>1</td>\n",
       "      <td>__label__1 とにかく 狭い 。</td>\n",
       "    </tr>\n",
       "  </tbody>\n",
       "</table>\n",
       "</div>"
      ],
      "text/plain": [
       "         label              text     judges  label_num  \\\n",
       "2310  positive    また利用したいホテルである。   {\"1\": 3}          0   \n",
       "308   positive  お腹いっぱい食べてしまいました。   {\"1\": 3}          0   \n",
       "684   negative           とにかく狭い。  {\"-1\": 3}          1   \n",
       "\n",
       "                             model_input  \n",
       "2310    __label__0 また 利用 し たい ホテル で ある 。  \n",
       "308   __label__0 お腹 いっぱい 食べ て しまい まし た 。  \n",
       "684                 __label__1 とにかく 狭い 。  "
      ]
     },
     "execution_count": 5,
     "metadata": {},
     "output_type": "execute_result"
    }
   ],
   "source": [
    "train.head(n=3)"
   ]
  },
  {
   "cell_type": "code",
   "execution_count": 6,
   "id": "363d0d21",
   "metadata": {},
   "outputs": [
    {
     "data": {
      "text/html": [
       "<div>\n",
       "<style scoped>\n",
       "    .dataframe tbody tr th:only-of-type {\n",
       "        vertical-align: middle;\n",
       "    }\n",
       "\n",
       "    .dataframe tbody tr th {\n",
       "        vertical-align: top;\n",
       "    }\n",
       "\n",
       "    .dataframe thead th {\n",
       "        text-align: right;\n",
       "    }\n",
       "</style>\n",
       "<table border=\"1\" class=\"dataframe\">\n",
       "  <thead>\n",
       "    <tr style=\"text-align: right;\">\n",
       "      <th></th>\n",
       "      <th>label</th>\n",
       "      <th>text</th>\n",
       "      <th>judges</th>\n",
       "      <th>label_num</th>\n",
       "      <th>model_input</th>\n",
       "    </tr>\n",
       "  </thead>\n",
       "  <tbody>\n",
       "    <tr>\n",
       "      <th>3574</th>\n",
       "      <td>positive</td>\n",
       "      <td>当日貸切状態で、最高の部屋を用意していただきました。</td>\n",
       "      <td>{\"1\": 3}</td>\n",
       "      <td>0</td>\n",
       "      <td>__label__0 当日 貸切 状態 で 、 最高 の 部屋 を 用意 し て いただき ...</td>\n",
       "    </tr>\n",
       "    <tr>\n",
       "      <th>1386</th>\n",
       "      <td>neutral</td>\n",
       "      <td>マタニティ旅行で利用しました。</td>\n",
       "      <td>{\"0\": 3}</td>\n",
       "      <td>0</td>\n",
       "      <td>__label__0 マタニティ 旅行 で 利用 し まし た 。</td>\n",
       "    </tr>\n",
       "    <tr>\n",
       "      <th>499</th>\n",
       "      <td>positive</td>\n",
       "      <td>コンビニも近いです。</td>\n",
       "      <td>{\"1\": 3}</td>\n",
       "      <td>0</td>\n",
       "      <td>__label__0 コンビニ も 近い です 。</td>\n",
       "    </tr>\n",
       "  </tbody>\n",
       "</table>\n",
       "</div>"
      ],
      "text/plain": [
       "         label                        text    judges  label_num  \\\n",
       "3574  positive  当日貸切状態で、最高の部屋を用意していただきました。  {\"1\": 3}          0   \n",
       "1386   neutral             マタニティ旅行で利用しました。  {\"0\": 3}          0   \n",
       "499   positive                  コンビニも近いです。  {\"1\": 3}          0   \n",
       "\n",
       "                                            model_input  \n",
       "3574  __label__0 当日 貸切 状態 で 、 最高 の 部屋 を 用意 し て いただき ...  \n",
       "1386                  __label__0 マタニティ 旅行 で 利用 し まし た 。  \n",
       "499                           __label__0 コンビニ も 近い です 。  "
      ]
     },
     "execution_count": 6,
     "metadata": {},
     "output_type": "execute_result"
    }
   ],
   "source": [
    "test.head(n=3)"
   ]
  },
  {
   "cell_type": "markdown",
   "id": "7257055b",
   "metadata": {},
   "source": [
    "ファイルに保存します。"
   ]
  },
  {
   "cell_type": "code",
   "execution_count": 7,
   "id": "927755a1",
   "metadata": {},
   "outputs": [],
   "source": [
    "train[[\"model_input\"]].to_csv(\"input/pn_ft_train.csv\", header=None, index=None)\n",
    "test[[\"model_input\"]].to_csv(\"input/pn_ft_test.csv\", header=None, index=None)"
   ]
  },
  {
   "cell_type": "code",
   "execution_count": 8,
   "id": "127ce02c",
   "metadata": {},
   "outputs": [
    {
     "name": "stdout",
     "output_type": "stream",
     "text": [
      "__label__0 また 利用 し たい ホテル で ある 。\r\n",
      "__label__0 お腹 いっぱい 食べ て しまい まし た 。\r\n",
      "__label__1 とにかく 狭い 。\r\n"
     ]
    }
   ],
   "source": [
    "!head -n3 input/pn_ft_train.csv"
   ]
  },
  {
   "cell_type": "code",
   "execution_count": 9,
   "id": "f5c477ec",
   "metadata": {},
   "outputs": [
    {
     "name": "stdout",
     "output_type": "stream",
     "text": [
      "__label__0 当日 貸切 状態 で 、 最高 の 部屋 を 用意 し て いただき まし た 。\r\n",
      "__label__0 マタニティ 旅行 で 利用 し まし た 。\r\n",
      "__label__0 コンビニ も 近い です 。\r\n"
     ]
    }
   ],
   "source": [
    "!head -n3 input/pn_ft_test.csv"
   ]
  },
  {
   "cell_type": "markdown",
   "id": "2e8f850c",
   "metadata": {},
   "source": [
    "## 学習する"
   ]
  },
  {
   "cell_type": "code",
   "execution_count": 10,
   "id": "449e63f7",
   "metadata": {},
   "outputs": [
    {
     "name": "stderr",
     "output_type": "stream",
     "text": [
      "\r",
      "Read 0M words\n",
      "Number of words:  3358\n",
      "Number of labels: 2\n",
      "\r",
      "Progress: 100.0% words/sec/thread: 2454729 lr:  0.000000 loss:  0.221002 ETA:   0h 0m\r",
      "Progress: 100.0% words/sec/thread: 2453796 lr:  0.000000 loss:  0.221002 ETA:   0h 0m\n"
     ]
    }
   ],
   "source": [
    "import fasttext\n",
    "\n",
    "model = fasttext.train_supervised(input=\"input/pn_ft_train.csv\")"
   ]
  },
  {
   "cell_type": "code",
   "execution_count": 11,
   "id": "329839b8",
   "metadata": {},
   "outputs": [
    {
     "data": {
      "text/plain": [
       "(419, 0.9021479713603818, 0.9021479713603818)"
      ]
     },
     "execution_count": 11,
     "metadata": {},
     "output_type": "execute_result"
    }
   ],
   "source": [
    "model.test(\"input/pn_ft_test.csv\")"
   ]
  },
  {
   "cell_type": "code",
   "execution_count": 12,
   "id": "b01932cf",
   "metadata": {},
   "outputs": [],
   "source": [
    "def prob_fn(item):\n",
    "    input_text = \" \".join(item.split()[1:])\n",
    "    pred = model.predict(input_text)\n",
    "    label = pred[0][0]\n",
    "    score = pred[1][0]\n",
    "    if label == \"__label__1\":\n",
    "        pass\n",
    "    elif label == \"__label__0\":\n",
    "        score = 1 - score\n",
    "    else:\n",
    "        raise Exception(f\"Label is not expected one: {label}\")\n",
    "    label_map = {\"__label__1\": 1, \"__label__0\": 0}\n",
    "    return label_map[label], score\n",
    "\n",
    "pred = test[\"model_input\"].apply(lambda x: prob_fn(x)[0])\n",
    "score = test[\"model_input\"].apply(lambda x: prob_fn(x)[1])"
   ]
  },
  {
   "cell_type": "code",
   "execution_count": 13,
   "id": "0635ad61",
   "metadata": {},
   "outputs": [
    {
     "data": {
      "text/plain": [
       "3574    0\n",
       "1386    0\n",
       "499     0\n",
       "3756    0\n",
       "914     0\n",
       "Name: model_input, dtype: int64"
      ]
     },
     "execution_count": 13,
     "metadata": {},
     "output_type": "execute_result"
    }
   ],
   "source": [
    "pred.head()"
   ]
  },
  {
   "cell_type": "code",
   "execution_count": 14,
   "id": "439d1270",
   "metadata": {},
   "outputs": [
    {
     "data": {
      "text/plain": [
       "3574    0.020941\n",
       "1386    0.000616\n",
       "499     0.011643\n",
       "3756    0.024373\n",
       "914     0.018029\n",
       "Name: model_input, dtype: float64"
      ]
     },
     "execution_count": 14,
     "metadata": {},
     "output_type": "execute_result"
    }
   ],
   "source": [
    "score.head()"
   ]
  },
  {
   "cell_type": "code",
   "execution_count": 15,
   "id": "595a277c",
   "metadata": {},
   "outputs": [
    {
     "data": {
      "text/plain": [
       "<sklearn.metrics._plot.confusion_matrix.ConfusionMatrixDisplay at 0x7fb6fa0c3be0>"
      ]
     },
     "execution_count": 15,
     "metadata": {},
     "output_type": "execute_result"
    },
    {
     "data": {
      "image/png": "[encoded data removed]",
      "text/plain": [
       "<Figure size 432x288 with 2 Axes>"
      ]
     },
     "metadata": {
      "needs_background": "light"
     },
     "output_type": "display_data"
    }
   ],
   "source": [
    "from sklearn.metrics import ConfusionMatrixDisplay\n",
    "\n",
    "ConfusionMatrixDisplay.from_predictions(y_true=test[\"label_num\"], y_pred=pred)"
   ]
  },
  {
   "cell_type": "code",
   "execution_count": 16,
   "id": "deb451ec",
   "metadata": {},
   "outputs": [
    {
     "data": {
      "text/plain": [
       "<sklearn.metrics._plot.precision_recall_curve.PrecisionRecallDisplay at 0x7fb6f2e1f3a0>"
      ]
     },
     "execution_count": 16,
     "metadata": {},
     "output_type": "execute_result"
    },
    {
     "data": {
      "image/png": "[encoded data removed]",
      "text/plain": [
       "<Figure size 432x288 with 1 Axes>"
      ]
     },
     "metadata": {
      "needs_background": "light"
     },
     "output_type": "display_data"
    }
   ],
   "source": [
    "from sklearn.metrics import PrecisionRecallDisplay\n",
    "\n",
    "PrecisionRecallDisplay.from_predictions(y_true=test[\"label_num\"], y_pred=score, name=\"fastText\")"
   ]
  }
 ],
 "metadata": {
  "kernelspec": {
   "display_name": "Python 3 (ipykernel)",
   "language": "python",
   "name": "python3"
  },
  "language_info": {
   "codemirror_mode": {
    "name": "ipython",
    "version": 3
   },
   "file_extension": ".py",
   "mimetype": "text/x-python",
   "name": "python",
   "nbconvert_exporter": "python",
   "pygments_lexer": "ipython3",
   "version": "3.8.6"
  }
 },
 "nbformat": 4,
 "nbformat_minor": 5
}
