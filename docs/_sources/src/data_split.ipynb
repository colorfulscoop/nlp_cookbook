{
 "cells": [
  {
   "cell_type": "markdown",
   "id": "2d5c44c4",
   "metadata": {},
   "source": [
    "# データの分割"
   ]
  },
  {
   "cell_type": "code",
   "execution_count": 1,
   "id": "703c0730",
   "metadata": {},
   "outputs": [],
   "source": [
    "import pandas as pd"
   ]
  },
  {
   "cell_type": "code",
   "execution_count": 2,
   "id": "1ed7039d",
   "metadata": {},
   "outputs": [],
   "source": [
    "data = pd.read_csv(\"input/pn.csv\")"
   ]
  },
  {
   "cell_type": "markdown",
   "id": "cec50184",
   "metadata": {},
   "source": [
    "## 学習・テストセットに分割\n",
    "\n",
    "[train_test_split](https://scikit-learn.org/stable/modules/generated/sklearn.model_selection.train_test_split.html#sklearn.model_selection.train_test_split)\n",
    "を使います。"
   ]
  },
  {
   "cell_type": "code",
   "execution_count": 3,
   "id": "38e072ae",
   "metadata": {},
   "outputs": [],
   "source": [
    "from sklearn.model_selection import train_test_split\n",
    "\n",
    "train, test = train_test_split(data, test_size=0.2, random_state=0)"
   ]
  },
  {
   "cell_type": "code",
   "execution_count": 4,
   "id": "49c0ba98",
   "metadata": {},
   "outputs": [],
   "source": [
    "def check_label_distribution(splits, labels):\n",
    "    res = []\n",
    "    for s in splits:\n",
    "        percs = [\n",
    "            (s.query('label == @label').size * 100 / s.size).round(2)\n",
    "            for label in labels\n",
    "        ]\n",
    "        res.append(percs)\n",
    "    return res"
   ]
  },
  {
   "cell_type": "code",
   "execution_count": 5,
   "id": "264229b3",
   "metadata": {},
   "outputs": [
    {
     "data": {
      "text/plain": [
       "[[61.32, 24.02, 14.66], [61.39, 23.58, 15.03]]"
      ]
     },
     "execution_count": 5,
     "metadata": {},
     "output_type": "execute_result"
    }
   ],
   "source": [
    "check_label_distribution([train, test], [\"positive\", \"neutral\", \"negative\"])"
   ]
  },
  {
   "cell_type": "markdown",
   "id": "be759ff6",
   "metadata": {},
   "source": [
    "## ラベルの分布を保って学習・テストセットに分割\n",
    "\n",
    "ラベルの分布を保つには`stratify`引数にラベルを使います。"
   ]
  },
  {
   "cell_type": "code",
   "execution_count": 6,
   "id": "d22da062",
   "metadata": {},
   "outputs": [],
   "source": [
    "train, test = train_test_split(data, test_size=0.2, stratify=data[\"label\"], random_state=0)"
   ]
  },
  {
   "cell_type": "code",
   "execution_count": 7,
   "id": "f217ad92",
   "metadata": {},
   "outputs": [
    {
     "data": {
      "text/plain": [
       "[[61.35, 23.93, 14.72], [61.3, 23.94, 14.76]]"
      ]
     },
     "execution_count": 7,
     "metadata": {},
     "output_type": "execute_result"
    }
   ],
   "source": [
    "check_label_distribution([train, test], [\"positive\", \"neutral\", \"negative\"])"
   ]
  },
  {
   "cell_type": "markdown",
   "id": "c0a4298c",
   "metadata": {},
   "source": [
    "## 交差検証用に分割"
   ]
  },
  {
   "cell_type": "code",
   "execution_count": 8,
   "id": "6c636651",
   "metadata": {},
   "outputs": [
    {
     "name": "stdout",
     "output_type": "stream",
     "text": [
      "0 (4164, 3) (1389, 3) (2544, 3)\n",
      "1 (4165, 3) (1388, 3) (2569, 3)\n",
      "2 (4165, 3) (1388, 3) (2547, 3)\n",
      "3 (4165, 3) (1388, 3) (2558, 3)\n"
     ]
    }
   ],
   "source": [
    "from sklearn.model_selection import KFold\n",
    "\n",
    "\n",
    "fold = KFold(n_splits=4, shuffle=True, random_state=0)\n",
    "\n",
    "for fold_id, (train_idx, val_idx) in enumerate(fold.split(X=data[\"text\"])):\n",
    "    train_cv = data.iloc[train_idx]\n",
    "    val_cv = data.iloc[val_idx]\n",
    "    print(fold_id, train_cv.shape, val_cv.shape, train_cv.query('label == \"positive\"').shape)"
   ]
  },
  {
   "cell_type": "markdown",
   "id": "27e4b69d",
   "metadata": {},
   "source": [
    "## ラベルの分布を保って交差検証用に分割\n",
    "\n",
    "[StratifiedKFold](https://scikit-learn.org/stable/modules/generated/sklearn.model_selection.KFold.html)\n",
    "を使います。\n",
    "`.split`メソッドにstratifyするラベル`y`を渡します。"
   ]
  },
  {
   "cell_type": "code",
   "execution_count": 9,
   "id": "8aa067ac",
   "metadata": {},
   "outputs": [
    {
     "name": "stdout",
     "output_type": "stream",
     "text": [
      "0 (4164, 3) (1389, 3) (2555, 3)\n",
      "1 (4165, 3) (1388, 3) (2554, 3)\n",
      "2 (4165, 3) (1388, 3) (2554, 3)\n",
      "3 (4165, 3) (1388, 3) (2555, 3)\n"
     ]
    }
   ],
   "source": [
    "from sklearn.model_selection import StratifiedKFold\n",
    "\n",
    "\n",
    "fold = StratifiedKFold(n_splits=4, shuffle=True, random_state=0)\n",
    "\n",
    "for fold_id, (train_idx, val_idx) in enumerate(fold.split(X=data, y=data[\"label\"])):\n",
    "    train_cv = data.iloc[train_idx]\n",
    "    val_cv = data.iloc[val_idx]\n",
    "    print(fold_id, train_cv.shape, val_cv.shape, train_cv.query('label == \"positive\"').shape)"
   ]
  }
 ],
 "metadata": {
  "kernelspec": {
   "display_name": "Python 3 (ipykernel)",
   "language": "python",
   "name": "python3"
  },
  "language_info": {
   "codemirror_mode": {
    "name": "ipython",
    "version": 3
   },
   "file_extension": ".py",
   "mimetype": "text/x-python",
   "name": "python",
   "nbconvert_exporter": "python",
   "pygments_lexer": "ipython3",
   "version": "3.8.6"
  }
 },
 "nbformat": 4,
 "nbformat_minor": 5
}
