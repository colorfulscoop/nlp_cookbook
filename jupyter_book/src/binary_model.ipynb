{
 "cells": [
  {
   "cell_type": "markdown",
   "id": "f56098b1",
   "metadata": {},
   "source": [
    "# 二値分類モデルの学習"
   ]
  },
  {
   "cell_type": "code",
   "execution_count": 1,
   "id": "aea63c90",
   "metadata": {},
   "outputs": [],
   "source": [
    "import pandas as pd\n",
    "import numpy as np\n",
    "import sklearn\n",
    "from sklearn import model_selection\n",
    "from sklearn import feature_extraction\n",
    "from sklearn import metrics\n",
    "from sklearn.pipeline import Pipeline\n",
    "from sklearn.feature_extraction.text import TfidfVectorizer"
   ]
  },
  {
   "cell_type": "markdown",
   "id": "c844110e",
   "metadata": {},
   "source": [
    "学習に使うデータをロードします。"
   ]
  },
  {
   "cell_type": "code",
   "execution_count": 2,
   "id": "c4cefee9",
   "metadata": {},
   "outputs": [],
   "source": [
    "import pandas as pd\n",
    "from sklearn import model_selection\n",
    "\n",
    "# positive, neutral, negative の中から negative なレビューを当てるタスクとして、\n",
    "# negativeを1に、それ以外のpositive, neutralを0に設定します。\n",
    "data = pd.read_csv(\"input/pn_same_judge.csv\")\n",
    "data[\"label_num\"] = data[\"label\"].map({\"positive\": 0, \"neutral\": 0, \"negative\": 1})\n",
    "train, test = model_selection.train_test_split(data, test_size=0.1, random_state=0)"
   ]
  },
  {
   "cell_type": "code",
   "execution_count": 3,
   "id": "b039f72a",
   "metadata": {},
   "outputs": [
    {
     "data": {
      "text/plain": [
       "((4186, 4), (3767, 4), (419, 4))"
      ]
     },
     "execution_count": 3,
     "metadata": {},
     "output_type": "execute_result"
    }
   ],
   "source": [
    "data.shape, train.shape, test.shape"
   ]
  },
  {
   "cell_type": "code",
   "execution_count": 4,
   "id": "740e049f",
   "metadata": {},
   "outputs": [
    {
     "data": {
      "text/html": [
       "<div>\n",
       "<style scoped>\n",
       "    .dataframe tbody tr th:only-of-type {\n",
       "        vertical-align: middle;\n",
       "    }\n",
       "\n",
       "    .dataframe tbody tr th {\n",
       "        vertical-align: top;\n",
       "    }\n",
       "\n",
       "    .dataframe thead th {\n",
       "        text-align: right;\n",
       "    }\n",
       "</style>\n",
       "<table border=\"1\" class=\"dataframe\">\n",
       "  <thead>\n",
       "    <tr style=\"text-align: right;\">\n",
       "      <th></th>\n",
       "      <th>label</th>\n",
       "      <th>text</th>\n",
       "      <th>judges</th>\n",
       "      <th>label_num</th>\n",
       "    </tr>\n",
       "  </thead>\n",
       "  <tbody>\n",
       "    <tr>\n",
       "      <th>0</th>\n",
       "      <td>neutral</td>\n",
       "      <td>出張でお世話になりました。</td>\n",
       "      <td>{\"0\": 3}</td>\n",
       "      <td>0</td>\n",
       "    </tr>\n",
       "    <tr>\n",
       "      <th>1</th>\n",
       "      <td>neutral</td>\n",
       "      <td>朝食は普通でした。</td>\n",
       "      <td>{\"0\": 3}</td>\n",
       "      <td>0</td>\n",
       "    </tr>\n",
       "    <tr>\n",
       "      <th>2</th>\n",
       "      <td>positive</td>\n",
       "      <td>また是非行きたいです。</td>\n",
       "      <td>{\"1\": 3}</td>\n",
       "      <td>0</td>\n",
       "    </tr>\n",
       "  </tbody>\n",
       "</table>\n",
       "</div>"
      ],
      "text/plain": [
       "      label           text    judges  label_num\n",
       "0   neutral  出張でお世話になりました。  {\"0\": 3}          0\n",
       "1   neutral      朝食は普通でした。  {\"0\": 3}          0\n",
       "2  positive    また是非行きたいです。  {\"1\": 3}          0"
      ]
     },
     "execution_count": 4,
     "metadata": {},
     "output_type": "execute_result"
    }
   ],
   "source": [
    "data.head(n=3)"
   ]
  },
  {
   "cell_type": "markdown",
   "id": "4bef877e",
   "metadata": {},
   "source": [
    "ラベルの分布をチェックします。"
   ]
  },
  {
   "cell_type": "code",
   "execution_count": 5,
   "id": "e6b94026",
   "metadata": {},
   "outputs": [
    {
     "data": {
      "text/plain": [
       "label_num\n",
       "0    3584\n",
       "1     602\n",
       "dtype: int64"
      ]
     },
     "execution_count": 5,
     "metadata": {},
     "output_type": "execute_result"
    }
   ],
   "source": [
    "data.groupby(\"label_num\").size()"
   ]
  },
  {
   "cell_type": "markdown",
   "id": "bf374979",
   "metadata": {},
   "source": [
    "偏りのあるデータセットであることがわかります。"
   ]
  },
  {
   "cell_type": "markdown",
   "id": "858c76e8",
   "metadata": {},
   "source": [
    "文をトークン化するためのトークナイザを定義します。"
   ]
  },
  {
   "cell_type": "code",
   "execution_count": 6,
   "id": "481a6c19",
   "metadata": {},
   "outputs": [
    {
     "name": "stderr",
     "output_type": "stream",
     "text": [
      "2022-05-09 07:44:01.628082: W tensorflow/stream_executor/platform/default/dso_loader.cc:64] Could not load dynamic library 'libcudart.so.11.0'; dlerror: libcudart.so.11.0: cannot open shared object file: No such file or directory\n",
      "2022-05-09 07:44:01.628190: I tensorflow/stream_executor/cuda/cudart_stub.cc:29] Ignore above cudart dlerror if you do not have a GPU set up on your machine.\n"
     ]
    }
   ],
   "source": [
    "import spacy\n",
    "\n",
    "nlp = spacy.load(\"ja_core_news_md\")\n",
    "\n",
    "def tokenize(text):\n",
    "   return [token.lemma_ for token in nlp(text)]"
   ]
  },
  {
   "cell_type": "markdown",
   "id": "e4f285ea",
   "metadata": {},
   "source": [
    "## ナイーブベイズ分類器\n",
    "\n",
    "[sklearn.naive_bayes.MultinomialNB](https://scikit-learn.org/stable/modules/naive_bayes.html)\n",
    "を使います。"
   ]
  },
  {
   "cell_type": "code",
   "execution_count": 7,
   "id": "4824c1e8",
   "metadata": {},
   "outputs": [
    {
     "data": {
      "text/plain": [
       "Pipeline(steps=[('vect',\n",
       "                 TfidfVectorizer(tokenizer=<function tokenize at 0x7f56a0231ee0>)),\n",
       "                ('clf', MultinomialNB())])"
      ]
     },
     "execution_count": 7,
     "metadata": {},
     "output_type": "execute_result"
    }
   ],
   "source": [
    "from sklearn.naive_bayes import MultinomialNB\n",
    "\n",
    "\n",
    "# 注意：トークナイザもtrainデータセットで学習します\n",
    "pipe_nb = Pipeline([\n",
    "    (\"vect\", TfidfVectorizer(tokenizer=tokenize)),\n",
    "    (\"clf\", MultinomialNB())\n",
    "])\n",
    "\n",
    "pipe_nb.fit(train[\"text\"], train[\"label_num\"])"
   ]
  },
  {
   "cell_type": "code",
   "execution_count": 8,
   "id": "2c0b4384",
   "metadata": {},
   "outputs": [
    {
     "data": {
      "text/plain": [
       "<sklearn.metrics._plot.confusion_matrix.ConfusionMatrixDisplay at 0x7f5692ebb0a0>"
      ]
     },
     "execution_count": 8,
     "metadata": {},
     "output_type": "execute_result"
    },
    {
     "data": {
      "image/png": "[encoded data removed]",
      "text/plain": [
       "<Figure size 432x288 with 2 Axes>"
      ]
     },
     "metadata": {
      "needs_background": "light"
     },
     "output_type": "display_data"
    }
   ],
   "source": [
    "pred_nb = pipe_nb.predict(test[\"text\"])\n",
    "metrics.ConfusionMatrixDisplay.from_predictions(y_true=test[\"label_num\"], y_pred=pred_nb)"
   ]
  },
  {
   "cell_type": "code",
   "execution_count": 9,
   "id": "2fb89f99",
   "metadata": {},
   "outputs": [],
   "source": [
    "score_nb = pipe_nb.predict_proba(test[\"text\"])[:,1]"
   ]
  },
  {
   "cell_type": "markdown",
   "id": "874d2bd1",
   "metadata": {},
   "source": [
    "## ロジスティック回帰"
   ]
  },
  {
   "cell_type": "code",
   "execution_count": 10,
   "id": "a15aa454",
   "metadata": {},
   "outputs": [
    {
     "data": {
      "text/plain": [
       "Pipeline(steps=[('vect',\n",
       "                 TfidfVectorizer(tokenizer=<function tokenize at 0x7f56a0231ee0>)),\n",
       "                ('clf', LogisticRegression(random_state=0))])"
      ]
     },
     "execution_count": 10,
     "metadata": {},
     "output_type": "execute_result"
    }
   ],
   "source": [
    "from sklearn.linear_model import LogisticRegression\n",
    "\n",
    "\n",
    "pipe_lr = Pipeline([\n",
    "    (\"vect\", TfidfVectorizer(tokenizer=tokenize)),\n",
    "    (\"clf\", LogisticRegression(random_state=0))\n",
    "])\n",
    "\n",
    "pipe_lr.fit(train[\"text\"], train[\"label_num\"])"
   ]
  },
  {
   "cell_type": "code",
   "execution_count": 11,
   "id": "d07aaf15",
   "metadata": {},
   "outputs": [
    {
     "data": {
      "text/plain": [
       "<sklearn.metrics._plot.confusion_matrix.ConfusionMatrixDisplay at 0x7f569d27bfd0>"
      ]
     },
     "execution_count": 11,
     "metadata": {},
     "output_type": "execute_result"
    },
    {
     "data": {
      "image/png": "[encoded data removed]",
      "text/plain": [
       "<Figure size 432x288 with 2 Axes>"
      ]
     },
     "metadata": {
      "needs_background": "light"
     },
     "output_type": "display_data"
    }
   ],
   "source": [
    "pred_lr = pipe_lr.predict(test[\"text\"])\n",
    "metrics.ConfusionMatrixDisplay.from_predictions(y_true=test[\"label_num\"], y_pred=pred_lr)"
   ]
  },
  {
   "cell_type": "code",
   "execution_count": 12,
   "id": "8be22e96",
   "metadata": {},
   "outputs": [],
   "source": [
    "score_lr = pipe_lr.predict_proba(test[\"text\"])[:,1]"
   ]
  },
  {
   "cell_type": "markdown",
   "id": "475e141f",
   "metadata": {},
   "source": [
    "## SVC"
   ]
  },
  {
   "cell_type": "code",
   "execution_count": 13,
   "id": "db8b95ab",
   "metadata": {},
   "outputs": [
    {
     "data": {
      "text/plain": [
       "Pipeline(steps=[('vect',\n",
       "                 TfidfVectorizer(tokenizer=<function tokenize at 0x7f56a0231ee0>)),\n",
       "                ('clf', SVC(random_state=0))])"
      ]
     },
     "execution_count": 13,
     "metadata": {},
     "output_type": "execute_result"
    }
   ],
   "source": [
    "from sklearn.svm import SVC\n",
    "\n",
    "pipe_svc = Pipeline([\n",
    "    (\"vect\", TfidfVectorizer(tokenizer=tokenize)),\n",
    "    (\"clf\", SVC(random_state=0)),\n",
    "])\n",
    "\n",
    "pipe_svc.fit(train[\"text\"], train[\"label_num\"])"
   ]
  },
  {
   "cell_type": "code",
   "execution_count": 14,
   "id": "c05d3f86",
   "metadata": {},
   "outputs": [
    {
     "data": {
      "text/plain": [
       "<sklearn.metrics._plot.confusion_matrix.ConfusionMatrixDisplay at 0x7f56e685edf0>"
      ]
     },
     "execution_count": 14,
     "metadata": {},
     "output_type": "execute_result"
    },
    {
     "data": {
      "image/png": "[encoded data removed]",
      "text/plain": [
       "<Figure size 432x288 with 2 Axes>"
      ]
     },
     "metadata": {
      "needs_background": "light"
     },
     "output_type": "display_data"
    }
   ],
   "source": [
    "pred_svc = pipe_svc.predict(test[\"text\"])\n",
    "metrics.ConfusionMatrixDisplay.from_predictions(y_true=test[\"label_num\"], y_pred=pred_svc)"
   ]
  },
  {
   "cell_type": "code",
   "execution_count": 15,
   "id": "8d62373e",
   "metadata": {},
   "outputs": [],
   "source": [
    "score_svc = pipe_svc.decision_function(test[\"text\"])"
   ]
  },
  {
   "cell_type": "markdown",
   "id": "b3971e19",
   "metadata": {},
   "source": [
    "## Random Forest"
   ]
  },
  {
   "cell_type": "code",
   "execution_count": 16,
   "id": "bbe8ff08",
   "metadata": {},
   "outputs": [
    {
     "data": {
      "text/plain": [
       "Pipeline(steps=[('vect',\n",
       "                 TfidfVectorizer(tokenizer=<function tokenize at 0x7f56a0231ee0>)),\n",
       "                ('clf', RandomForestClassifier(random_state=0))])"
      ]
     },
     "execution_count": 16,
     "metadata": {},
     "output_type": "execute_result"
    }
   ],
   "source": [
    "from sklearn.ensemble import RandomForestClassifier\n",
    "\n",
    "pipe_rf = Pipeline([\n",
    "    (\"vect\", TfidfVectorizer(tokenizer=tokenize)),\n",
    "    (\"clf\", RandomForestClassifier(random_state=0))\n",
    "])\n",
    "\n",
    "pipe_rf.fit(train[\"text\"], train[\"label_num\"])"
   ]
  },
  {
   "cell_type": "code",
   "execution_count": 17,
   "id": "887c3a25",
   "metadata": {},
   "outputs": [
    {
     "data": {
      "text/plain": [
       "<sklearn.metrics._plot.confusion_matrix.ConfusionMatrixDisplay at 0x7f569d36de50>"
      ]
     },
     "execution_count": 17,
     "metadata": {},
     "output_type": "execute_result"
    },
    {
     "data": {
      "image/png": "[encoded data removed]",
      "text/plain": [
       "<Figure size 432x288 with 2 Axes>"
      ]
     },
     "metadata": {
      "needs_background": "light"
     },
     "output_type": "display_data"
    }
   ],
   "source": [
    "pred_rf = pipe_rf.predict(test[\"text\"])\n",
    "metrics.ConfusionMatrixDisplay.from_predictions(y_true=test[\"label_num\"], y_pred=pred_rf)"
   ]
  },
  {
   "cell_type": "code",
   "execution_count": 18,
   "id": "334043eb",
   "metadata": {},
   "outputs": [],
   "source": [
    "score_rf = pipe_rf.predict_proba(test[\"text\"])[:,1]"
   ]
  },
  {
   "cell_type": "markdown",
   "id": "8cd9beb1",
   "metadata": {},
   "source": [
    "## 単語埋め込みを使う"
   ]
  },
  {
   "cell_type": "code",
   "execution_count": 19,
   "id": "de74cfd2",
   "metadata": {},
   "outputs": [],
   "source": [
    "# TransoformerMixinを継承すれば fit_trainsform は fit, transform にあわせて実装される\n",
    "\n",
    "from sklearn.base import TransformerMixin\n",
    "\n",
    "class DenseVectorizer(TransformerMixin):\n",
    "    def __init__(self, nlp):\n",
    "        self._nlp = nlp\n",
    "    \n",
    "    def fit(self, X, y=None):\n",
    "        return self\n",
    "    \n",
    "    def transform(self, X):\n",
    "        return np.array([self._nlp(text).vector for text in X])"
   ]
  },
  {
   "cell_type": "code",
   "execution_count": 20,
   "id": "d6074efd",
   "metadata": {},
   "outputs": [
    {
     "data": {
      "text/plain": [
       "Pipeline(steps=[('vect', <__main__.DenseVectorizer object at 0x7f56948f5df0>),\n",
       "                ('clf', LogisticRegression(class_weight='balanced'))])"
      ]
     },
     "execution_count": 20,
     "metadata": {},
     "output_type": "execute_result"
    }
   ],
   "source": [
    "from sklearn.linear_model import LogisticRegression\n",
    "from sklearn.pipeline import Pipeline\n",
    "from sklearn.feature_extraction.text import TfidfVectorizer\n",
    "\n",
    "pipe_we = Pipeline([\n",
    "    (\"vect\", DenseVectorizer(nlp=nlp)),\n",
    "    (\"clf\", LogisticRegression(class_weight=\"balanced\"))\n",
    "])\n",
    "\n",
    "pipe_we.fit(train[\"text\"], train[\"label_num\"])"
   ]
  },
  {
   "cell_type": "code",
   "execution_count": 21,
   "id": "5194b2f0",
   "metadata": {},
   "outputs": [
    {
     "data": {
      "text/plain": [
       "<sklearn.metrics._plot.confusion_matrix.ConfusionMatrixDisplay at 0x7f56948f5880>"
      ]
     },
     "execution_count": 21,
     "metadata": {},
     "output_type": "execute_result"
    },
    {
     "data": {
      "image/png": "[encoded data removed]",
      "text/plain": [
       "<Figure size 432x288 with 2 Axes>"
      ]
     },
     "metadata": {
      "needs_background": "light"
     },
     "output_type": "display_data"
    }
   ],
   "source": [
    "pred_we = pipe_we.predict(test[\"text\"])\n",
    "metrics.ConfusionMatrixDisplay.from_predictions(y_true=test[\"label_num\"], y_pred=pred_we)"
   ]
  },
  {
   "cell_type": "code",
   "execution_count": 22,
   "id": "6dde496e",
   "metadata": {},
   "outputs": [],
   "source": [
    "score_we = pipe_we.decision_function(test[\"text\"])"
   ]
  },
  {
   "cell_type": "markdown",
   "id": "c2f530dd",
   "metadata": {},
   "source": [
    "## 文埋め込みを使う"
   ]
  },
  {
   "cell_type": "code",
   "execution_count": 23,
   "id": "6855335e",
   "metadata": {},
   "outputs": [],
   "source": [
    "# TransoformerMixinを継承すれば fit_trainsform は fit, transform にあわせて実装される\n",
    "\n",
    "from sklearn.base import TransformerMixin\n",
    "import tensorflow_hub as hub\n",
    "import numpy as np\n",
    "import tensorflow_text\n",
    "\n",
    "class UseVectorizer(TransformerMixin):\n",
    "    def __init__(self):\n",
    "        self._embed = hub.load(\"https://tfhub.dev/google/universal-sentence-encoder-multilingual/3\")\n",
    "    \n",
    "    def fit(self, X, y=None):\n",
    "        return self\n",
    "    \n",
    "    def transform(self, X):\n",
    "        return self._embed(X)"
   ]
  },
  {
   "cell_type": "code",
   "execution_count": 24,
   "id": "5edae2e1",
   "metadata": {},
   "outputs": [
    {
     "name": "stderr",
     "output_type": "stream",
     "text": [
      "2022-05-09 07:49:47.119701: W tensorflow/stream_executor/platform/default/dso_loader.cc:64] Could not load dynamic library 'libcuda.so.1'; dlerror: libcuda.so.1: cannot open shared object file: No such file or directory\n",
      "2022-05-09 07:49:47.120629: W tensorflow/stream_executor/cuda/cuda_driver.cc:269] failed call to cuInit: UNKNOWN ERROR (303)\n",
      "2022-05-09 07:49:47.120773: I tensorflow/stream_executor/cuda/cuda_diagnostics.cc:156] kernel driver does not appear to be running on this host (a6a1cdd7a181): /proc/driver/nvidia/version does not exist\n",
      "2022-05-09 07:49:47.125843: I tensorflow/core/platform/cpu_feature_guard.cc:151] This TensorFlow binary is optimized with oneAPI Deep Neural Network Library (oneDNN) to use the following CPU instructions in performance-critical operations:  AVX2 FMA\n",
      "To enable them in other operations, rebuild TensorFlow with the appropriate compiler flags.\n"
     ]
    },
    {
     "data": {
      "text/plain": [
       "Pipeline(steps=[('vect', <__main__.UseVectorizer object at 0x7f56936b38e0>),\n",
       "                ('clf', SVC(random_state=0))])"
      ]
     },
     "execution_count": 24,
     "metadata": {},
     "output_type": "execute_result"
    }
   ],
   "source": [
    "from sklearn.feature_extraction.text import TfidfVectorizer\n",
    "\n",
    "pipe_se = Pipeline([\n",
    "    (\"vect\", UseVectorizer()),\n",
    "    (\"clf\", SVC(random_state=0)),\n",
    "])\n",
    "\n",
    "pipe_se.fit(train[\"text\"], train[\"label_num\"])"
   ]
  },
  {
   "cell_type": "code",
   "execution_count": 25,
   "id": "8a8fa1fc",
   "metadata": {},
   "outputs": [
    {
     "data": {
      "text/plain": [
       "<sklearn.metrics._plot.confusion_matrix.ConfusionMatrixDisplay at 0x7f569c4d73a0>"
      ]
     },
     "execution_count": 25,
     "metadata": {},
     "output_type": "execute_result"
    },
    {
     "data": {
      "image/png": "[encoded data removed]",
      "text/plain": [
       "<Figure size 432x288 with 2 Axes>"
      ]
     },
     "metadata": {
      "needs_background": "light"
     },
     "output_type": "display_data"
    }
   ],
   "source": [
    "pred_se = pipe_se.predict(test[\"text\"])\n",
    "metrics.ConfusionMatrixDisplay.from_predictions(y_true=test[\"label_num\"], y_pred=pred_se)"
   ]
  },
  {
   "cell_type": "code",
   "execution_count": 26,
   "id": "3db67366",
   "metadata": {},
   "outputs": [],
   "source": [
    "score_se = pipe_se.decision_function(test[\"text\"])"
   ]
  },
  {
   "cell_type": "markdown",
   "id": "39209447",
   "metadata": {},
   "source": [
    "## 参考: PRカーブの比較"
   ]
  },
  {
   "cell_type": "code",
   "execution_count": 27,
   "id": "2b077f2c",
   "metadata": {},
   "outputs": [
    {
     "data": {
      "image/png": "[encoded data removed]",
      "text/plain": [
       "<Figure size 432x288 with 1 Axes>"
      ]
     },
     "metadata": {
      "needs_background": "light"
     },
     "output_type": "display_data"
    }
   ],
   "source": [
    "import  matplotlib.pyplot as plt\n",
    "\n",
    "# subplotsでaxesを取得して同じグラフ上に表示する\n",
    "_, ax = plt.subplots()\n",
    "for name, pred in [\n",
    "    (\"Naive Bayes\", score_nb),\n",
    "    (\"Logistic Regression\", score_lr),\n",
    "    (\"SVC\", score_svc),\n",
    "    (\"Random Forest\", score_rf),\n",
    "    (\"Word Embedding\", score_we),\n",
    "    (\"Sentece Embedding\", score_se),\n",
    "]:\n",
    "    metrics.PrecisionRecallDisplay.from_predictions(ax=ax, y_true=test[\"label_num\"], y_pred=pred, name=name)"
   ]
  }
 ],
 "metadata": {
  "kernelspec": {
   "display_name": "Python 3 (ipykernel)",
   "language": "python",
   "name": "python3"
  },
  "language_info": {
   "codemirror_mode": {
    "name": "ipython",
    "version": 3
   },
   "file_extension": ".py",
   "mimetype": "text/x-python",
   "name": "python",
   "nbconvert_exporter": "python",
   "pygments_lexer": "ipython3",
   "version": "3.8.6"
  }
 },
 "nbformat": 4,
 "nbformat_minor": 5
}
