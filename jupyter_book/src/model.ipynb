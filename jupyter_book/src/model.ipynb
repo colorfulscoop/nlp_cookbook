{
 "cells": [
  {
   "cell_type": "markdown",
   "id": "f56098b1",
   "metadata": {},
   "source": [
    "# モデルを選ぶ\n",
    "\n",
    "タスクやデータセットによって使うべきモデルは変わってきます。\n",
    "scikit-learnではどの推論器を選べばいいかのガイドラインを以下で提供しています。\n",
    "\n",
    "[Choosing the right estimator](https://scikit-learn.org/stable/tutorial/machine_learning_map/)\n"
   ]
  }
 ],
 "metadata": {
  "kernelspec": {
   "display_name": "Python 3 (ipykernel)",
   "language": "python",
   "name": "python3"
  },
  "language_info": {
   "codemirror_mode": {
    "name": "ipython",
    "version": 3
   },
   "file_extension": ".py",
   "mimetype": "text/x-python",
   "name": "python",
   "nbconvert_exporter": "python",
   "pygments_lexer": "ipython3",
   "version": "3.8.6"
  }
 },
 "nbformat": 4,
 "nbformat_minor": 5
}
