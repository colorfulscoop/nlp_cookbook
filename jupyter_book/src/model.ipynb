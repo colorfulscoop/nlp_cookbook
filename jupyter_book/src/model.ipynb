{
 "cells": [
  {
   "cell_type": "markdown",
   "id": "f56098b1",
   "metadata": {},
   "source": [
    "# モデルを選ぶ\n",
    "\n",
    "タスクやデータセットによって使うべきモデルは変わってきます。\n",
    "scikit-learnではどの推論器を選べばいいかのガイドラインを以下で提供しています。\n",
    "\n",
    "[Choosing the right estimator](https://scikit-learn.org/stable/tutorial/machine_learning_map/)\n",
    "\n",
    "NLPクックブックでは以下のモデルのレシピをまとめています。\n",
    "学習計算量の $m$ は学習データ数を、 $n$ は特徴量の数を表しています。\n",
    "\n",
    "| クラス | 学習計算量 | スケーリング | 大規模データの学習 |\n",
    "| --- | --- | --- | --- |\n",
    "| `SGDClassifier` | $O(m \\times n)$ | 必要 | 可能 |\n",
    "| `LinearSVC` | $O(m \\times n)$ | 必要 | 不可 |\n",
    "| `LogisticRegression` | $O(m \\times n)$ | 必要 | 不可 |\n",
    "| `DecisionTree` | $O(m \\times n \\times \\log_2(m))$ | 不要 | 不可 |\n",
    "\n",
    "初めて学習するモデルとして、学習データ量が多い場合には `SGDClassifier` を、\n",
    "そうでない場合には `LinearSVC`, `LogisticRegression`, または `DecisionTree` のアンサンブルである `RandomForest` のうちからいくつか試してみるのがよいでしょう。"
   ]
  }
 ],
 "metadata": {
  "kernelspec": {
   "display_name": "Python 3 (ipykernel)",
   "language": "python",
   "name": "python3"
  },
  "language_info": {
   "codemirror_mode": {
    "name": "ipython",
    "version": 3
   },
   "file_extension": ".py",
   "mimetype": "text/x-python",
   "name": "python",
   "nbconvert_exporter": "python",
   "pygments_lexer": "ipython3",
   "version": "3.8.6"
  }
 },
 "nbformat": 4,
 "nbformat_minor": 5
}
