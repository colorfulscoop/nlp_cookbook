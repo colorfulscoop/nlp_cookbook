{
 "cells": [
  {
   "cell_type": "markdown",
   "id": "2d5c44c4",
   "metadata": {},
   "source": [
    "# データの分割\n",
    "\n",
    "学習を始める前にデータを学習・テスト用に分割します。\n",
    "\n",
    "学習時にはリークを避けるためにテスト用のファイルは一切ふれないようにすることが大切です。"
   ]
  },
  {
   "cell_type": "markdown",
   "id": "e39ed079",
   "metadata": {},
   "source": [
    "**データのロード**"
   ]
  },
  {
   "cell_type": "code",
   "execution_count": 1,
   "id": "703c0730",
   "metadata": {},
   "outputs": [],
   "source": [
    "import pandas as pd\n",
    "\n",
    "data = pd.read_csv(\"input/pn.csv\")"
   ]
  },
  {
   "cell_type": "markdown",
   "id": "cec50184",
   "metadata": {},
   "source": [
    "## 学習・テストセットに分割\n",
    "\n",
    "[train_test_split](https://scikit-learn.org/stable/modules/generated/sklearn.model_selection.train_test_split.html#sklearn.model_selection.train_test_split)\n",
    "を使います。"
   ]
  },
  {
   "cell_type": "code",
   "execution_count": 3,
   "id": "38e072ae",
   "metadata": {},
   "outputs": [],
   "source": [
    "from sklearn.model_selection import train_test_split\n",
    "\n",
    "train, test = train_test_split(data, test_size=0.2, random_state=0)"
   ]
  },
  {
   "cell_type": "code",
   "execution_count": 4,
   "id": "49c0ba98",
   "metadata": {},
   "outputs": [],
   "source": [
    "def check_label_distribution(splits, labels):\n",
    "    res = []\n",
    "    for s in splits:\n",
    "        percs = [\n",
    "            (s.query('label == @label').size * 100 / s.size).round(2)\n",
    "            for label in labels\n",
    "        ]\n",
    "        res.append(percs)\n",
    "    return res"
   ]
  },
  {
   "cell_type": "code",
   "execution_count": 5,
   "id": "264229b3",
   "metadata": {},
   "outputs": [
    {
     "data": {
      "text/plain": [
       "[[61.32, 24.02, 14.66], [61.39, 23.58, 15.03]]"
      ]
     },
     "execution_count": 5,
     "metadata": {},
     "output_type": "execute_result"
    }
   ],
   "source": [
    "check_label_distribution([train, test], [\"positive\", \"neutral\", \"negative\"])"
   ]
  },
  {
   "cell_type": "markdown",
   "id": "be759ff6",
   "metadata": {},
   "source": [
    "ラベルの分布を保つには`stratify`引数にラベルを使います。"
   ]
  },
  {
   "cell_type": "code",
   "execution_count": 6,
   "id": "d22da062",
   "metadata": {},
   "outputs": [],
   "source": [
    "train, test = train_test_split(data, test_size=0.2, stratify=data[\"label\"], random_state=0)"
   ]
  },
  {
   "cell_type": "code",
   "execution_count": 7,
   "id": "f217ad92",
   "metadata": {},
   "outputs": [
    {
     "data": {
      "text/plain": [
       "[[61.35, 23.93, 14.72], [61.3, 23.94, 14.76]]"
      ]
     },
     "execution_count": 7,
     "metadata": {},
     "output_type": "execute_result"
    }
   ],
   "source": [
    "check_label_distribution([train, test], [\"positive\", \"neutral\", \"negative\"])"
   ]
  }
 ],
 "metadata": {
  "kernelspec": {
   "display_name": "Python 3 (ipykernel)",
   "language": "python",
   "name": "python3"
  },
  "language_info": {
   "codemirror_mode": {
    "name": "ipython",
    "version": 3
   },
   "file_extension": ".py",
   "mimetype": "text/x-python",
   "name": "python",
   "nbconvert_exporter": "python",
   "pygments_lexer": "ipython3",
   "version": "3.8.6"
  }
 },
 "nbformat": 4,
 "nbformat_minor": 5
}
