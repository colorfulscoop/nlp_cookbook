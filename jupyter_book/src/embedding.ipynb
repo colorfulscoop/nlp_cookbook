{
 "cells": [
  {
   "cell_type": "markdown",
   "id": "62b3d3ae",
   "metadata": {},
   "source": [
    "# 埋め込み"
   ]
  },
  {
   "cell_type": "markdown",
   "id": "ade67425",
   "metadata": {},
   "source": [
    "ここまで、テキストを機械学習モデルで扱えるようにするためにbug-of-wordsをはじめとする、一つの単語を一つの次元で表現する特徴ベクトル化の手法について見てきました。\n",
    "\n",
    "特徴ベクトルに求められる機能はタスクに十分な情報を残した状態で機械学習で取り扱うことができるベクトルに変換することです。\n",
    "\n",
    "この表現は便利である一方、次の問題点を抱えています。\n",
    "\n",
    "1. 高次元であること\n",
    "2. 単語の「近さ」を表現できないこと\n",
    "\n",
    "まず1.の「高次元の表現」であることについて考えてみましょう。\n",
    "機械学習では\n",
    "[次元の呪い](https://ja.wikipedia.org/wiki/%E6%AC%A1%E5%85%83%E3%81%AE%E5%91%AA%E3%81%84)\n",
    "という問題が知られており、特徴ベクトルの次元が増えるにつれて、学習に必要なデータ量も増えます。\n",
    "例えば、学習データに入っていないテキストを学習済みのモデルに入力して分類するとしましょう。\n",
    "高次元になればなるほど、入力の特徴ベクトルが、学習データ中に現れるサンプルの特徴ベクトル全てと遠い状況になりやすく、結果予測が正しく行われなくなってしまいます。\n",
    "これは別の言葉で言うと、学習データに過学習しており、汎化性能が低くなるということです。\n",
    "\n",
    "bug-of-wordsのような特徴ベクトルはほとんどが0な **疎** なベクトルであり、その部分に次元を小さくする余地があります。もとのテキストの情報を落とさずに次元を小さくする手法が求められます。\n",
    "\n",
    "次に2.の単語の「近さ」を表現できない問題についてみてみましょう。\n",
    "特徴ベクトルに求められる性質として、タスクに十分な情報を含んでいることがあげられます。\n",
    "ところが、bug-of-wordsでは単語の近さをはじめとする、単語や文の意味を捉えてはいません。\n",
    "これは一つの単語につき一つの次元が割り当てられているからで、次元と小さくしてベクトル間の関係をコサイン類似度のような指標で計測できるようにすれば解決できます。\n",
    "\n",
    "この1.と2.を解決する方法が単語や文の **埋め込み (embedding)** と呼ばれる手法で、\n",
    "ニューラルネットワークの時代では埋め込みが頻繁に使われるようになりました。\n",
    "\n",
    "手法によっては埋め込みはラベルなしデータから学習することが可能で、学習データが少ない状況でも適用可能です。\n",
    "ここでは、そのような事前の埋め込みを利用して埋め込みを特徴ベクトルとして利用する方法を見てみましょう。"
   ]
  },
  {
   "cell_type": "markdown",
   "id": "eb92bf1b",
   "metadata": {},
   "source": [
    "## 単語のエンベッディング\n",
    "\n",
    "SpaCyの日本語モデルのトークンには埋め込みがついています。\n",
    "埋め込みは[chiVe v1.1 mc90 aunit](https://github.com/WorksApplications/chiVe)を使っています。"
   ]
  },
  {
   "cell_type": "code",
   "execution_count": 2,
   "id": "35a75ea2",
   "metadata": {},
   "outputs": [
    {
     "name": "stderr",
     "output_type": "stream",
     "text": [
      "2022-04-27 11:16:11.255208: W tensorflow/stream_executor/platform/default/dso_loader.cc:64] Could not load dynamic library 'libcudart.so.11.0'; dlerror: libcudart.so.11.0: cannot open shared object file: No such file or directory\n",
      "2022-04-27 11:16:11.255902: I tensorflow/stream_executor/cuda/cudart_stub.cc:29] Ignore above cudart dlerror if you do not have a GPU set up on your machine.\n"
     ]
    }
   ],
   "source": [
    "import spacy\n",
    "\n",
    "nlp = spacy.load(\"ja_core_news_md\")"
   ]
  },
  {
   "cell_type": "code",
   "execution_count": 3,
   "id": "6e96ca13",
   "metadata": {},
   "outputs": [
    {
     "name": "stdout",
     "output_type": "stream",
     "text": [
      "今日 True (300,)\n",
      "は True (300,)\n",
      "銀座 True (300,)\n",
      "から True (300,)\n",
      "池袋 True (300,)\n",
      "へ True (300,)\n",
      "向かい True (300,)\n",
      "まし False (300,)\n",
      "た True (300,)\n",
      "。 True (300,)\n"
     ]
    }
   ],
   "source": [
    "doc = nlp(\"今日は銀座から池袋へ向かいました。\")\n",
    "for token in doc:\n",
    "    print(token, token.has_vector, tokben.vector.shape)"
   ]
  },
  {
   "cell_type": "code",
   "execution_count": 9,
   "id": "f614e887",
   "metadata": {},
   "outputs": [
    {
     "name": "stdout",
     "output_type": "stream",
     "text": [
      "今日 た 0.549\n",
      "は から 0.7804\n",
      "は た 0.7607\n",
      "は 。 0.5274\n",
      "銀座 池袋 0.7067\n",
      "から へ 0.6643\n",
      "から た 0.7289\n",
      "た 。 0.5702\n"
     ]
    },
    {
     "name": "stderr",
     "output_type": "stream",
     "text": [
      "/tmp/ipykernel_3458/1923281132.py:7: UserWarning: [W008] Evaluating Token.similarity based on empty vectors.\n",
      "  score = t1.similarity(t2)\n"
     ]
    }
   ],
   "source": [
    "import numpy as np\n",
    "\n",
    "tokens = list(doc)\n",
    "for i in range(len(tokens)-1):\n",
    "    for j in range(i+1, len(tokens)):\n",
    "        t1, t2 = tokens[i], tokens[j]\n",
    "        score = t1.similarity(t2)\n",
    "        #score = np.dot(t1.vector, t2.vector) / (np.linalg.norm(t1.vector) * np.linalg.norm(t2.vector))\n",
    "        if score > 0.5:\n",
    "            print(t1, t2, np.array(score).round(4))"
   ]
  },
  {
   "cell_type": "code",
   "execution_count": 2,
   "id": "d9d55024",
   "metadata": {},
   "outputs": [],
   "source": [
    "doc = nlp(\"東京と大阪に行く\")\n",
    "tokens = list(doc)"
   ]
  },
  {
   "cell_type": "code",
   "execution_count": 3,
   "id": "71081f7f",
   "metadata": {},
   "outputs": [
    {
     "data": {
      "text/plain": [
       "[東京, と, 大阪, に, 行く]"
      ]
     },
     "execution_count": 3,
     "metadata": {},
     "output_type": "execute_result"
    }
   ],
   "source": [
    "tokens"
   ]
  },
  {
   "cell_type": "code",
   "execution_count": 4,
   "id": "c62599f1",
   "metadata": {},
   "outputs": [],
   "source": [
    "tokyo, _, osaka, _, go = tokens"
   ]
  },
  {
   "cell_type": "code",
   "execution_count": 5,
   "id": "65c042b8",
   "metadata": {},
   "outputs": [
    {
     "data": {
      "text/plain": [
       "((300,), (300,), (300,))"
      ]
     },
     "execution_count": 5,
     "metadata": {},
     "output_type": "execute_result"
    }
   ],
   "source": [
    "tokyo.vector.shape, osaka.vector.shape, go.vector.shape"
   ]
  },
  {
   "cell_type": "code",
   "execution_count": 6,
   "id": "09d9ce25",
   "metadata": {},
   "outputs": [
    {
     "data": {
      "text/plain": [
       "0.6331307291984558"
      ]
     },
     "execution_count": 6,
     "metadata": {},
     "output_type": "execute_result"
    }
   ],
   "source": [
    "tokyo.similarity(osaka)"
   ]
  },
  {
   "cell_type": "code",
   "execution_count": 7,
   "id": "eb8ba733",
   "metadata": {},
   "outputs": [
    {
     "data": {
      "text/plain": [
       "0.30672687292099"
      ]
     },
     "execution_count": 7,
     "metadata": {},
     "output_type": "execute_result"
    }
   ],
   "source": [
    "tokyo.similarity(go)"
   ]
  },
  {
   "cell_type": "markdown",
   "id": "608e6dec",
   "metadata": {},
   "source": [
    "文ベクトルは `doc.vector` でアクセスできます。\n",
    "文ベクトルは単語ベクトルの平均として得られます。したがって、単語の順は考慮されていないことに注意してください。"
   ]
  },
  {
   "cell_type": "code",
   "execution_count": 8,
   "id": "00c74595",
   "metadata": {},
   "outputs": [
    {
     "data": {
      "text/plain": [
       "(300,)"
      ]
     },
     "execution_count": 8,
     "metadata": {},
     "output_type": "execute_result"
    }
   ],
   "source": [
    "doc.vector.shape"
   ]
  },
  {
   "cell_type": "code",
   "execution_count": 9,
   "id": "46b03036",
   "metadata": {},
   "outputs": [
    {
     "data": {
      "text/plain": [
       "0.7961583740464455"
      ]
     },
     "execution_count": 9,
     "metadata": {},
     "output_type": "execute_result"
    }
   ],
   "source": [
    "nlp(\"東京に行く\").similarity(nlp(\"大阪に行きます\"))"
   ]
  },
  {
   "cell_type": "code",
   "execution_count": null,
   "id": "e681a199",
   "metadata": {},
   "outputs": [],
   "source": [
    "nlp(\"東京に行く\").similarity(nlp(\"大阪に行きます\"))"
   ]
  },
  {
   "cell_type": "code",
   "execution_count": 18,
   "id": "66b7b9f2",
   "metadata": {},
   "outputs": [
    {
     "data": {
      "text/plain": [
       "0.680034620070472"
      ]
     },
     "execution_count": 18,
     "metadata": {},
     "output_type": "execute_result"
    }
   ],
   "source": [
    "nlp(\"東京に行く\").similarity(nlp(\"ご飯を食べます\"))"
   ]
  },
  {
   "cell_type": "markdown",
   "id": "cb0222fc",
   "metadata": {},
   "source": [
    "## 単語の順も考慮する文エンベッディング\n",
    "\n",
    "単語ごとにエンベッディングを取ることで単語ごとの近さを考慮することができるようなりました。\n",
    "一方で、単語ごとの埋め込みの和をとっているので、単語の順番は考慮できていません。\n",
    "\n",
    "ここでは単語の順も考慮した文エンベッディングについてみていきましょう。\n",
    "\n",
    "Universal Sentence Encoderが簡単に利用でき、よいスタートラインに立てます。\n",
    "https://tfhub.dev/google/universal-sentence-encoder-multilingual/3"
   ]
  },
  {
   "cell_type": "code",
   "execution_count": 11,
   "id": "53e5114c",
   "metadata": {},
   "outputs": [
    {
     "name": "stderr",
     "output_type": "stream",
     "text": [
      "2022-04-27 05:29:27.594044: W tensorflow/stream_executor/platform/default/dso_loader.cc:64] Could not load dynamic library 'libcudart.so.11.0'; dlerror: libcudart.so.11.0: cannot open shared object file: No such file or directory\n",
      "2022-04-27 05:29:27.595306: I tensorflow/stream_executor/cuda/cudart_stub.cc:29] Ignore above cudart dlerror if you do not have a GPU set up on your machine.\n",
      "2022-04-27 05:30:06.841760: W tensorflow/stream_executor/platform/default/dso_loader.cc:64] Could not load dynamic library 'libcuda.so.1'; dlerror: libcuda.so.1: cannot open shared object file: No such file or directory\n",
      "2022-04-27 05:30:06.841964: W tensorflow/stream_executor/cuda/cuda_driver.cc:269] failed call to cuInit: UNKNOWN ERROR (303)\n",
      "2022-04-27 05:30:06.842008: I tensorflow/stream_executor/cuda/cuda_diagnostics.cc:156] kernel driver does not appear to be running on this host (60353b6b26b9): /proc/driver/nvidia/version does not exist\n",
      "2022-04-27 05:30:06.843081: I tensorflow/core/platform/cpu_feature_guard.cc:151] This TensorFlow binary is optimized with oneAPI Deep Neural Network Library (oneDNN) to use the following CPU instructions in performance-critical operations:  AVX2 FMA\n",
      "To enable them in other operations, rebuild TensorFlow with the appropriate compiler flags.\n"
     ]
    }
   ],
   "source": [
    "import tensorflow_hub as hub\n",
    "import numpy as np\n",
    "import tensorflow_text\n",
    "\n",
    "\n",
    "embed = hub.load(\"https://tfhub.dev/google/universal-sentence-encoder-multilingual/3\")"
   ]
  },
  {
   "cell_type": "code",
   "execution_count": 16,
   "id": "14ac4aa8",
   "metadata": {},
   "outputs": [
    {
     "data": {
      "text/plain": [
       "TensorShape([1, 512])"
      ]
     },
     "execution_count": 16,
     "metadata": {},
     "output_type": "execute_result"
    }
   ],
   "source": [
    "embed(\"東京に行きます\").shape"
   ]
  },
  {
   "cell_type": "code",
   "execution_count": 14,
   "id": "78047047",
   "metadata": {},
   "outputs": [],
   "source": [
    "import numpy as np\n",
    "\n",
    "\n",
    "def calc_similarity(text, target):\n",
    "    return np.inner(embed(text), embed(target))"
   ]
  },
  {
   "cell_type": "code",
   "execution_count": 19,
   "id": "14fdb57a",
   "metadata": {},
   "outputs": [
    {
     "data": {
      "text/plain": [
       "array([[0.6303844]], dtype=float32)"
      ]
     },
     "execution_count": 19,
     "metadata": {},
     "output_type": "execute_result"
    }
   ],
   "source": [
    "calc_similarity(\"東京に行く\", \"大阪に行きます\")"
   ]
  },
  {
   "cell_type": "code",
   "execution_count": 20,
   "id": "99bcadda",
   "metadata": {},
   "outputs": [
    {
     "data": {
      "text/plain": [
       "array([[0.26746953]], dtype=float32)"
      ]
     },
     "execution_count": 20,
     "metadata": {},
     "output_type": "execute_result"
    }
   ],
   "source": [
    "calc_similarity(\"東京に行く\", \"ご飯を食べます\")"
   ]
  },
  {
   "cell_type": "code",
   "execution_count": null,
   "id": "bf835871",
   "metadata": {},
   "outputs": [],
   "source": []
  }
 ],
 "metadata": {
  "kernelspec": {
   "display_name": "Python 3 (ipykernel)",
   "language": "python",
   "name": "python3"
  },
  "language_info": {
   "codemirror_mode": {
    "name": "ipython",
    "version": 3
   },
   "file_extension": ".py",
   "mimetype": "text/x-python",
   "name": "python",
   "nbconvert_exporter": "python",
   "pygments_lexer": "ipython3",
   "version": "3.8.6"
  }
 },
 "nbformat": 4,
 "nbformat_minor": 5
}
