{
 "cells": [
  {
   "cell_type": "markdown",
   "id": "f2977c48",
   "metadata": {},
   "source": [
    "# 分類問題の評価指標"
   ]
  },
  {
   "cell_type": "markdown",
   "id": "69b74fbe",
   "metadata": {},
   "source": [
    "## 混同行列 (Confusion Matrix)"
   ]
  },
  {
   "cell_type": "code",
   "execution_count": 1,
   "id": "7745264e",
   "metadata": {},
   "outputs": [],
   "source": [
    "from sklearn import metrics\n",
    "\n",
    "y_true = [0, 1, 1, 0, 0, 1, 0]\n",
    "y_pred = [1, 1, 1, 1, 1, 0, 0]"
   ]
  },
  {
   "cell_type": "code",
   "execution_count": 2,
   "id": "fa4cf4c0",
   "metadata": {},
   "outputs": [
    {
     "data": {
      "text/plain": [
       "array([[1, 3],\n",
       "       [1, 2]])"
      ]
     },
     "execution_count": 2,
     "metadata": {},
     "output_type": "execute_result"
    }
   ],
   "source": [
    "metrics.confusion_matrix(y_true=y_true, y_pred=y_pred)"
   ]
  },
  {
   "cell_type": "markdown",
   "id": "dfac4d77",
   "metadata": {},
   "source": [
    "混同行列の描画には\n",
    "[sklearn.metrics.ConfusionMatrixDisplay](https://scikit-learn.org/stable/modules/generated/sklearn.metrics.ConfusionMatrixDisplay.html#sklearn.metrics.ConfusionMatrixDisplay)\n",
    "を使うのが便利です。"
   ]
  },
  {
   "cell_type": "code",
   "execution_count": 3,
   "id": "8fd9c830",
   "metadata": {},
   "outputs": [
    {
     "data": {
      "text/plain": [
       "<sklearn.metrics._plot.confusion_matrix.ConfusionMatrixDisplay at 0x7f1c47d47fd0>"
      ]
     },
     "execution_count": 3,
     "metadata": {},
     "output_type": "execute_result"
    },
    {
     "data": {
      "image/png": "[encoded data removed]",
      "text/plain": [
       "<Figure size 432x288 with 2 Axes>"
      ]
     },
     "metadata": {
      "needs_background": "light"
     },
     "output_type": "display_data"
    }
   ],
   "source": [
    "\n",
    "metrics.ConfusionMatrixDisplay.from_predictions(y_true=y_true, y_pred=y_pred)"
   ]
  },
  {
   "cell_type": "markdown",
   "id": "39840e34",
   "metadata": {},
   "source": [
    "## 適合率 (Precision) と再現率 (Recall)\n",
    "\n",
    "参考: https://scikit-learn.org/stable/auto_examples/model_selection/plot_precision_recall.html"
   ]
  },
  {
   "cell_type": "code",
   "execution_count": 4,
   "id": "74cc37c2",
   "metadata": {},
   "outputs": [
    {
     "data": {
      "text/plain": [
       "0.4"
      ]
     },
     "execution_count": 4,
     "metadata": {},
     "output_type": "execute_result"
    }
   ],
   "source": [
    "from sklearn import metrics\n",
    "\n",
    "y_true = [0, 1, 1, 0, 0, 1, 0]\n",
    "y_pred = [1, 1, 1, 1, 1, 0, 0]\n",
    "\n",
    "metrics.precision_score(y_true=y_true, y_pred=y_pred)"
   ]
  },
  {
   "cell_type": "code",
   "execution_count": 5,
   "id": "6e521373",
   "metadata": {},
   "outputs": [
    {
     "data": {
      "text/plain": [
       "0.6666666666666666"
      ]
     },
     "execution_count": 5,
     "metadata": {},
     "output_type": "execute_result"
    }
   ],
   "source": [
    "from sklearn import metrics\n",
    "\n",
    "metrics.recall_score(y_true=y_true, y_pred=y_pred)"
   ]
  },
  {
   "cell_type": "markdown",
   "id": "4279c3c4",
   "metadata": {},
   "source": [
    "## 適合率・再現率曲線 (Precision Recall曲線, PR曲線)"
   ]
  },
  {
   "cell_type": "code",
   "execution_count": 6,
   "id": "5b090cce",
   "metadata": {},
   "outputs": [],
   "source": [
    "from sklearn import metrics\n",
    "\n",
    "y_true = [1, 1, 0, 1, 0, 0, 0]\n",
    "y_score = [0.9, 0.8, 0.88, 0.98, 0.5, 0.4, 0.3]\n",
    "\n",
    "precision, recall, threshold = metrics.precision_recall_curve(y_true=y_true, probas_pred=y_score)"
   ]
  },
  {
   "cell_type": "code",
   "execution_count": 7,
   "id": "a7cd5cf4",
   "metadata": {},
   "outputs": [
    {
     "data": {
      "text/plain": [
       "array([0.75      , 0.66666667, 1.        , 1.        , 1.        ])"
      ]
     },
     "execution_count": 7,
     "metadata": {},
     "output_type": "execute_result"
    }
   ],
   "source": [
    "precision"
   ]
  },
  {
   "cell_type": "code",
   "execution_count": 8,
   "id": "d9c25c5d",
   "metadata": {},
   "outputs": [
    {
     "data": {
      "text/plain": [
       "array([1.        , 0.66666667, 0.66666667, 0.33333333, 0.        ])"
      ]
     },
     "execution_count": 8,
     "metadata": {},
     "output_type": "execute_result"
    }
   ],
   "source": [
    "recall"
   ]
  },
  {
   "cell_type": "code",
   "execution_count": 9,
   "id": "26052615",
   "metadata": {},
   "outputs": [
    {
     "data": {
      "text/plain": [
       "array([0.8 , 0.88, 0.9 , 0.98])"
      ]
     },
     "execution_count": 9,
     "metadata": {},
     "output_type": "execute_result"
    }
   ],
   "source": [
    "threshold"
   ]
  },
  {
   "cell_type": "markdown",
   "id": "868d6bc6",
   "metadata": {},
   "source": [
    "描画するには\n",
    "[sklearn.metrics.PrecisionRecallDisplay](https://scikit-learn.org/stable/auto_examples/model_selection/plot_precision_recall.html#plot-the-precision-recall-curve)\n",
    "が便利です。"
   ]
  },
  {
   "cell_type": "code",
   "execution_count": 10,
   "id": "f81509b1",
   "metadata": {},
   "outputs": [
    {
     "data": {
      "text/plain": [
       "<sklearn.metrics._plot.precision_recall_curve.PrecisionRecallDisplay at 0x7f1c43cbc250>"
      ]
     },
     "execution_count": 10,
     "metadata": {},
     "output_type": "execute_result"
    },
    {
     "data": {
      "image/png": "[encoded data removed]",
      "text/plain": [
       "<Figure size 432x288 with 1 Axes>"
      ]
     },
     "metadata": {
      "needs_background": "light"
     },
     "output_type": "display_data"
    }
   ],
   "source": [
    "metrics.PrecisionRecallDisplay.from_predictions(y_true, y_score, name=\"Your Classifier\")"
   ]
  }
 ],
 "metadata": {
  "kernelspec": {
   "display_name": "Python 3 (ipykernel)",
   "language": "python",
   "name": "python3"
  },
  "language_info": {
   "codemirror_mode": {
    "name": "ipython",
    "version": 3
   },
   "file_extension": ".py",
   "mimetype": "text/x-python",
   "name": "python",
   "nbconvert_exporter": "python",
   "pygments_lexer": "ipython3",
   "version": "3.8.6"
  }
 },
 "nbformat": 4,
 "nbformat_minor": 5
}
