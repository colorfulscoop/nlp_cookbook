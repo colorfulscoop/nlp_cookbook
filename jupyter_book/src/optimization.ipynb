{
 "cells": [
  {
   "cell_type": "markdown",
   "id": "273b6150",
   "metadata": {},
   "source": [
    "# ハイパーパラメータ探索\n",
    "\n",
    "クロスバリデーションについては\n",
    "[sklearnのドキュメント](https://scikit-learn.org/stable/modules/cross_validation.html#cross-validation)\n",
    "のドキュメントが詳しいです。"
   ]
  },
  {
   "cell_type": "markdown",
   "id": "6e62c877",
   "metadata": {},
   "source": [
    "データをロードしておきます。"
   ]
  },
  {
   "cell_type": "code",
   "execution_count": 1,
   "id": "27cd8111",
   "metadata": {},
   "outputs": [],
   "source": [
    "import pandas as pd\n",
    "from sklearn import model_selection\n",
    "\n",
    "# positive, neutral, negative の中から negative なレビューを当てるタスクとして、\n",
    "# negativeを1に、それ以外のpositive, neutralを0に設定します。\n",
    "data = pd.read_csv(\"input/pn_same_judge.csv\")\n",
    "data[\"label_num\"] = data[\"label\"].map({\"positive\": 0, \"neutral\": 0, \"negative\": 1})\n",
    "train, test = model_selection.train_test_split(data, test_size=0.1, random_state=0)"
   ]
  },
  {
   "cell_type": "markdown",
   "id": "f4458d69",
   "metadata": {},
   "source": [
    "テキストのトークン化に必要なトークナイザを定義します。"
   ]
  },
  {
   "cell_type": "code",
   "execution_count": 2,
   "id": "9bd473d4",
   "metadata": {},
   "outputs": [
    {
     "name": "stderr",
     "output_type": "stream",
     "text": [
      "2022-05-09 08:02:39.482435: W tensorflow/stream_executor/platform/default/dso_loader.cc:64] Could not load dynamic library 'libcudart.so.11.0'; dlerror: libcudart.so.11.0: cannot open shared object file: No such file or directory\n",
      "2022-05-09 08:02:39.482524: I tensorflow/stream_executor/cuda/cudart_stub.cc:29] Ignore above cudart dlerror if you do not have a GPU set up on your machine.\n"
     ]
    }
   ],
   "source": [
    "import spacy\n",
    "\n",
    "nlp = spacy.load(\"ja_core_news_md\")\n",
    "\n",
    "def tokenize(text):\n",
    "   return [token.text for token in nlp(text)]"
   ]
  },
  {
   "cell_type": "markdown",
   "id": "53cfc045",
   "metadata": {},
   "source": [
    "## 指標を最大化するハイパーパラメータ探索\n",
    "\n",
    "ある指標を最大化するパラメータを探索するには GridSearchCV が便利です。\n",
    "\n",
    "ハイパーパラメータの探索では、引数だけでなく、例えばMultinomialNBとLogisticRegressionを比較するといったクラス自体も変更可能です。\n",
    "\n",
    "参考: [Stack Overflow](https://stackoverflow.com/questions/64258622/gridsearchcv-with-tfidf-and-count-vectorizer)\n",
    "\n"
   ]
  },
  {
   "cell_type": "code",
   "execution_count": 3,
   "id": "099b1c3b",
   "metadata": {},
   "outputs": [
    {
     "name": "stdout",
     "output_type": "stream",
     "text": [
      "Fitting 3 folds for each of 3 candidates, totalling 9 fits\n"
     ]
    },
    {
     "name": "stderr",
     "output_type": "stream",
     "text": [
      "2022-05-09 08:02:51.611437: W tensorflow/stream_executor/platform/default/dso_loader.cc:64] Could not load dynamic library 'libcudart.so.11.0'; dlerror: libcudart.so.11.0: cannot open shared object file: No such file or directory\n",
      "2022-05-09 08:02:51.611531: I tensorflow/stream_executor/cuda/cudart_stub.cc:29] Ignore above cudart dlerror if you do not have a GPU set up on your machine.\n",
      "2022-05-09 08:02:54.526855: W tensorflow/stream_executor/platform/default/dso_loader.cc:64] Could not load dynamic library 'libcudart.so.11.0'; dlerror: libcudart.so.11.0: cannot open shared object file: No such file or directory\n",
      "2022-05-09 08:02:54.526965: I tensorflow/stream_executor/cuda/cudart_stub.cc:29] Ignore above cudart dlerror if you do not have a GPU set up on your machine.\n"
     ]
    },
    {
     "data": {
      "text/plain": [
       "GridSearchCV(cv=StratifiedKFold(n_splits=3, random_state=0, shuffle=True),\n",
       "             estimator=Pipeline(steps=[('vect',\n",
       "                                        TfidfVectorizer(tokenizer=<function tokenize at 0x7fc86ca539d0>)),\n",
       "                                       ('clf', LogisticRegression())]),\n",
       "             n_jobs=2,\n",
       "             param_grid=[{'clf': [MultinomialNB()]},\n",
       "                         {'clf': [LogisticRegression(class_weight='balanced')],\n",
       "                          'clf__class_weight': [None, 'balanced']}],\n",
       "             scoring='average_precision', verbose=2)"
      ]
     },
     "execution_count": 3,
     "metadata": {},
     "output_type": "execute_result"
    }
   ],
   "source": [
    "from sklearn.naive_bayes import MultinomialNB\n",
    "from sklearn.linear_model import LogisticRegression\n",
    "from sklearn.feature_extraction.text import TfidfVectorizer\n",
    "from sklearn.model_selection import GridSearchCV\n",
    "from sklearn.model_selection import StratifiedKFold\n",
    "from sklearn.pipeline import Pipeline\n",
    "\n",
    "\n",
    "pipe = Pipeline([\n",
    "    (\"vect\", TfidfVectorizer(tokenizer=tokenize)),\n",
    "    (\"clf\", LogisticRegression())\n",
    "])\n",
    "\n",
    "params = [\n",
    "    {\n",
    "        \"clf\": [MultinomialNB()],\n",
    "    },\n",
    "    {\n",
    "        \"clf\": [LogisticRegression()],\n",
    "        \"clf__class_weight\": [None, \"balanced\"],\n",
    "    }\n",
    "]\n",
    "\n",
    "cv = StratifiedKFold(n_splits=3, shuffle=True, random_state=0)\n",
    "search = GridSearchCV(pipe, params, scoring=\"average_precision\", cv=cv, verbose=2, n_jobs=2)\n",
    "search.fit(X=train[\"text\"], y=train[\"label_num\"])"
   ]
  },
  {
   "cell_type": "code",
   "execution_count": 4,
   "id": "b9bf38cb",
   "metadata": {},
   "outputs": [
    {
     "data": {
      "text/html": [
       "<div>\n",
       "<style scoped>\n",
       "    .dataframe tbody tr th:only-of-type {\n",
       "        vertical-align: middle;\n",
       "    }\n",
       "\n",
       "    .dataframe tbody tr th {\n",
       "        vertical-align: top;\n",
       "    }\n",
       "\n",
       "    .dataframe thead th {\n",
       "        text-align: right;\n",
       "    }\n",
       "</style>\n",
       "<table border=\"1\" class=\"dataframe\">\n",
       "  <thead>\n",
       "    <tr style=\"text-align: right;\">\n",
       "      <th></th>\n",
       "      <th>0</th>\n",
       "      <th>1</th>\n",
       "      <th>2</th>\n",
       "    </tr>\n",
       "  </thead>\n",
       "  <tbody>\n",
       "    <tr>\n",
       "      <th>mean_fit_time</th>\n",
       "      <td>41.165774</td>\n",
       "      <td>43.328188</td>\n",
       "      <td>29.202276</td>\n",
       "    </tr>\n",
       "    <tr>\n",
       "      <th>std_fit_time</th>\n",
       "      <td>1.474656</td>\n",
       "      <td>0.592522</td>\n",
       "      <td>2.558648</td>\n",
       "    </tr>\n",
       "    <tr>\n",
       "      <th>mean_score_time</th>\n",
       "      <td>20.369568</td>\n",
       "      <td>20.659912</td>\n",
       "      <td>15.043999</td>\n",
       "    </tr>\n",
       "    <tr>\n",
       "      <th>std_score_time</th>\n",
       "      <td>1.378666</td>\n",
       "      <td>1.915008</td>\n",
       "      <td>1.882787</td>\n",
       "    </tr>\n",
       "    <tr>\n",
       "      <th>param_clf</th>\n",
       "      <td>MultinomialNB()</td>\n",
       "      <td>LogisticRegression(class_weight='balanced')</td>\n",
       "      <td>LogisticRegression(class_weight='balanced')</td>\n",
       "    </tr>\n",
       "    <tr>\n",
       "      <th>param_clf__class_weight</th>\n",
       "      <td>NaN</td>\n",
       "      <td>None</td>\n",
       "      <td>balanced</td>\n",
       "    </tr>\n",
       "    <tr>\n",
       "      <th>params</th>\n",
       "      <td>{'clf': MultinomialNB()}</td>\n",
       "      <td>{'clf': LogisticRegression(class_weight='balan...</td>\n",
       "      <td>{'clf': LogisticRegression(class_weight='balan...</td>\n",
       "    </tr>\n",
       "    <tr>\n",
       "      <th>split0_test_score</th>\n",
       "      <td>0.7273</td>\n",
       "      <td>0.81205</td>\n",
       "      <td>0.818982</td>\n",
       "    </tr>\n",
       "    <tr>\n",
       "      <th>split1_test_score</th>\n",
       "      <td>0.70588</td>\n",
       "      <td>0.744122</td>\n",
       "      <td>0.749205</td>\n",
       "    </tr>\n",
       "    <tr>\n",
       "      <th>split2_test_score</th>\n",
       "      <td>0.744426</td>\n",
       "      <td>0.821502</td>\n",
       "      <td>0.825885</td>\n",
       "    </tr>\n",
       "    <tr>\n",
       "      <th>mean_test_score</th>\n",
       "      <td>0.725869</td>\n",
       "      <td>0.792558</td>\n",
       "      <td>0.798024</td>\n",
       "    </tr>\n",
       "    <tr>\n",
       "      <th>std_test_score</th>\n",
       "      <td>0.015769</td>\n",
       "      <td>0.034466</td>\n",
       "      <td>0.034635</td>\n",
       "    </tr>\n",
       "    <tr>\n",
       "      <th>rank_test_score</th>\n",
       "      <td>3</td>\n",
       "      <td>2</td>\n",
       "      <td>1</td>\n",
       "    </tr>\n",
       "  </tbody>\n",
       "</table>\n",
       "</div>"
      ],
      "text/plain": [
       "                                                0  \\\n",
       "mean_fit_time                           41.165774   \n",
       "std_fit_time                             1.474656   \n",
       "mean_score_time                         20.369568   \n",
       "std_score_time                           1.378666   \n",
       "param_clf                         MultinomialNB()   \n",
       "param_clf__class_weight                       NaN   \n",
       "params                   {'clf': MultinomialNB()}   \n",
       "split0_test_score                          0.7273   \n",
       "split1_test_score                         0.70588   \n",
       "split2_test_score                        0.744426   \n",
       "mean_test_score                          0.725869   \n",
       "std_test_score                           0.015769   \n",
       "rank_test_score                                 3   \n",
       "\n",
       "                                                                         1  \\\n",
       "mean_fit_time                                                    43.328188   \n",
       "std_fit_time                                                      0.592522   \n",
       "mean_score_time                                                  20.659912   \n",
       "std_score_time                                                    1.915008   \n",
       "param_clf                      LogisticRegression(class_weight='balanced')   \n",
       "param_clf__class_weight                                               None   \n",
       "params                   {'clf': LogisticRegression(class_weight='balan...   \n",
       "split0_test_score                                                  0.81205   \n",
       "split1_test_score                                                 0.744122   \n",
       "split2_test_score                                                 0.821502   \n",
       "mean_test_score                                                   0.792558   \n",
       "std_test_score                                                    0.034466   \n",
       "rank_test_score                                                          2   \n",
       "\n",
       "                                                                         2  \n",
       "mean_fit_time                                                    29.202276  \n",
       "std_fit_time                                                      2.558648  \n",
       "mean_score_time                                                  15.043999  \n",
       "std_score_time                                                    1.882787  \n",
       "param_clf                      LogisticRegression(class_weight='balanced')  \n",
       "param_clf__class_weight                                           balanced  \n",
       "params                   {'clf': LogisticRegression(class_weight='balan...  \n",
       "split0_test_score                                                 0.818982  \n",
       "split1_test_score                                                 0.749205  \n",
       "split2_test_score                                                 0.825885  \n",
       "mean_test_score                                                   0.798024  \n",
       "std_test_score                                                    0.034635  \n",
       "rank_test_score                                                          1  "
      ]
     },
     "execution_count": 4,
     "metadata": {},
     "output_type": "execute_result"
    }
   ],
   "source": [
    "pd.DataFrame(search.cv_results_).T"
   ]
  },
  {
   "cell_type": "code",
   "execution_count": 5,
   "id": "32b6bab2",
   "metadata": {},
   "outputs": [
    {
     "data": {
      "text/plain": [
       "{'clf': LogisticRegression(class_weight='balanced'),\n",
       " 'clf__class_weight': 'balanced'}"
      ]
     },
     "execution_count": 5,
     "metadata": {},
     "output_type": "execute_result"
    }
   ],
   "source": [
    "search.best_params_"
   ]
  },
  {
   "cell_type": "markdown",
   "id": "cf55d3e2",
   "metadata": {},
   "source": [
    "最適なパラメータを使って、学習データ全体でもう一度モデルを学習するにはset_paramsを使います。\n",
    "\n",
    "\n",
    "参考: [Stack Overflow](https://stackoverflow.com/questions/60608474/scikit-pipeline-parameters-fit-got-an-unexpected-keyword-argument-gamma)"
   ]
  },
  {
   "cell_type": "code",
   "execution_count": 6,
   "id": "d3c8bba1",
   "metadata": {},
   "outputs": [
    {
     "data": {
      "text/plain": [
       "Pipeline(steps=[('vect',\n",
       "                 TfidfVectorizer(tokenizer=<function tokenize at 0x7fc86ca539d0>)),\n",
       "                ('clf', LogisticRegression(class_weight='balanced'))])"
      ]
     },
     "execution_count": 6,
     "metadata": {},
     "output_type": "execute_result"
    }
   ],
   "source": [
    "pipe.set_params(**search.best_params_)\n",
    "\n",
    "pipe.fit(X=train[\"text\"], y=train[\"label_num\"])"
   ]
  },
  {
   "cell_type": "code",
   "execution_count": 7,
   "id": "86f39b38",
   "metadata": {},
   "outputs": [],
   "source": [
    "proba = pipe.predict_proba(X=test[\"text\"])"
   ]
  },
  {
   "cell_type": "markdown",
   "id": "01e2ff79",
   "metadata": {},
   "source": [
    "## カスタムループ\n",
    "\n",
    "ある指標を最大化するだけでなく、例えばすべてのPRカーブを描くなどの操作が必要な場合には\n",
    "ハイパーパラメータの組み合わせに対して自分で学習、推論のコードを実装する必要があります。\n",
    "\n",
    "ハイパーパラメータの組み合わせは [ParameterGrid](https://scikit-learn.org/stable/modules/generated/sklearn.model_selection.ParameterGrid.html#sklearn.model_selection.ParameterGrid)\n",
    "を使うことができます。\n",
    "\n",
    "ParameterGridにパラメータを渡すと、GridSearchCVでPipelineに渡される組み合わせと同様のパラメータのその組み合わせを返します。"
   ]
  },
  {
   "cell_type": "code",
   "execution_count": 8,
   "id": "56cdb064",
   "metadata": {},
   "outputs": [
    {
     "data": {
      "text/plain": [
       "[{'a': 'a1', 'b': 'b1'},\n",
       " {'a': 'a1', 'b': 'b2'},\n",
       " {'a': 'a2', 'b': 'b1'},\n",
       " {'a': 'a2', 'b': 'b2'},\n",
       " {'a': 'a3', 'b': 'b3'},\n",
       " {'a': 'a3', 'b': 'b4'},\n",
       " {'a': 'a4', 'b': 'b3'},\n",
       " {'a': 'a4', 'b': 'b4'}]"
      ]
     },
     "execution_count": 8,
     "metadata": {},
     "output_type": "execute_result"
    }
   ],
   "source": [
    "from sklearn.model_selection import ParameterGrid\n",
    "\n",
    "params = [\n",
    "    {\"a\": [\"a1\", \"a2\"], \"b\": [\"b1\", \"b2\"]},\n",
    "    {\"a\": [\"a3\", \"a4\"], \"b\": [\"b3\", \"b4\"]},\n",
    "]\n",
    "list(ParameterGrid(params))"
   ]
  },
  {
   "cell_type": "markdown",
   "id": "348b8796",
   "metadata": {},
   "source": [
    "ParameterGridとset_paramsを使うことで次のように自分で\n",
    "各パラメータの組み合わせに対してクロスバリデーションを実行することが可能になります。"
   ]
  },
  {
   "cell_type": "code",
   "execution_count": 9,
   "id": "745889f8",
   "metadata": {},
   "outputs": [],
   "source": [
    "from sklearn.model_selection import ParameterGrid\n",
    "import numpy as np\n",
    "\n",
    "\n",
    "def run_cv(pipe, params, cv, X, y):\n",
    "    \"\"\"paramsの組み合わせに対して、各フォールドで学習、推論を行い、その結果を返す。\n",
    "    \"\"\"\n",
    "    result = []\n",
    "    for param in ParameterGrid(params):\n",
    "        pipe.set_params(**param)\n",
    "        print(pipe)\n",
    "        pred = np.zeros((len(X), ))\n",
    "        for fold_id, (train_idx, test_idx) in enumerate(cv.split(X=X, y=y)):\n",
    "            print(\"Fold:\", fold_id)\n",
    "            pipe.fit(X=X.iloc[train_idx], y=y.iloc[train_idx])\n",
    "            # ここでは推定器にはpredict_probaがあることを想定しています。\n",
    "            # この実装では、例えばSVCでは動作しないことに注意してください。\n",
    "            pred[test_idx] = pipe.predict_proba(X.iloc[test_idx])[:,1]\n",
    "\n",
    "        result.append((param, pred))\n",
    "    return result"
   ]
  },
  {
   "cell_type": "code",
   "execution_count": 10,
   "id": "1deafe18",
   "metadata": {},
   "outputs": [
    {
     "name": "stdout",
     "output_type": "stream",
     "text": [
      "Pipeline(steps=[('vect',\n",
      "                 TfidfVectorizer(tokenizer=<function tokenize at 0x7fc86ca539d0>)),\n",
      "                ('clf', MultinomialNB())])\n",
      "Fold: 0\n",
      "Fold: 1\n",
      "Fold: 2\n",
      "Pipeline(steps=[('vect',\n",
      "                 TfidfVectorizer(tokenizer=<function tokenize at 0x7fc86ca539d0>)),\n",
      "                ('clf', LogisticRegression())])\n",
      "Fold: 0\n",
      "Fold: 1\n",
      "[CV] END ................................clf=MultinomialNB(); total time=  59.9s\n",
      "[CV] END ...clf=LogisticRegression(), clf__class_weight=None; total time= 1.1min\n",
      "[CV] END ...clf=LogisticRegression(), clf__class_weight=None; total time= 1.0min\n",
      "[CV] END clf=LogisticRegression(), clf__class_weight=balanced; total time=  46.3s\n",
      "Fold: 2\n",
      "Pipeline(steps=[('vect',\n",
      "                 TfidfVectorizer(tokenizer=<function tokenize at 0x7fc86ca539d0>)),\n",
      "                ('clf', LogisticRegression(class_weight='balanced'))])\n",
      "Fold: 0\n",
      "[CV] END ................................clf=MultinomialNB(); total time=  59.2s\n",
      "[CV] END ................................clf=MultinomialNB(); total time= 1.1min\n",
      "[CV] END ...clf=LogisticRegression(), clf__class_weight=None; total time= 1.0min\n",
      "[CV] END clf=LogisticRegression(), clf__class_weight=balanced; total time=  48.1s\n",
      "[CV] END clf=LogisticRegression(), clf__class_weight=balanced; total time=  38.3s\n",
      "Fold: 1\n",
      "Fold: 2\n"
     ]
    }
   ],
   "source": [
    "pipe = Pipeline([\n",
    "    (\"vect\", TfidfVectorizer(tokenizer=tokenize)),\n",
    "    (\"clf\", LogisticRegression())\n",
    "])\n",
    "\n",
    "params = [\n",
    "    {\n",
    "        \"clf\": [MultinomialNB()],\n",
    "    },\n",
    "    {\n",
    "        \"clf\": [LogisticRegression()],\n",
    "        \"clf__class_weight\": [None, \"balanced\"],\n",
    "    }\n",
    "]\n",
    "cv = StratifiedKFold(n_splits=3, shuffle=True, random_state=0)\n",
    "result = run_cv(pipe=pipe, params=params, cv=cv, X=train[\"text\"], y=train[\"label_num\"])"
   ]
  }
 ],
 "metadata": {
  "kernelspec": {
   "display_name": "Python 3 (ipykernel)",
   "language": "python",
   "name": "python3"
  },
  "language_info": {
   "codemirror_mode": {
    "name": "ipython",
    "version": 3
   },
   "file_extension": ".py",
   "mimetype": "text/x-python",
   "name": "python",
   "nbconvert_exporter": "python",
   "pygments_lexer": "ipython3",
   "version": "3.8.6"
  }
 },
 "nbformat": 4,
 "nbformat_minor": 5
}
